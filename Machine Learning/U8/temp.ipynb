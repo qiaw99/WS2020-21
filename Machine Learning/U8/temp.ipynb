{
 "cells": [
  {
   "cell_type": "markdown",
   "metadata": {},
   "source": [
    "# Mustererkennung/Machine Learning - Assignment 8"
   ]
  },
  {
   "cell_type": "code",
   "execution_count": 13,
   "metadata": {
    "ExecuteTime": {
     "end_time": "2017-11-28T18:25:29.034525Z",
     "start_time": "2017-11-28T18:25:28.330771Z"
    }
   },
   "outputs": [],
   "source": [
    "import pandas as pd\n",
    "import numpy as np\n",
    "import matplotlib.pyplot as plt\n",
    "%matplotlib inline\n",
    "from sklearn.model_selection import train_test_split"
   ]
  },
  {
   "cell_type": "code",
   "execution_count": 14,
   "metadata": {
    "ExecuteTime": {
     "end_time": "2017-11-28T18:25:29.050926Z",
     "start_time": "2017-11-28T18:25:29.045302Z"
    }
   },
   "outputs": [],
   "source": [
    "class Classifier():\n",
    "    def error_rate(self, label, pred):\n",
    "        return 1 - self.accuracy(label, pred)\n",
    "    \n",
    "    def accuracy(self, label, pred):\n",
    "        return np.mean(label == pred)"
   ]
  },
  {
   "cell_type": "code",
   "execution_count": 15,
   "metadata": {
    "ExecuteTime": {
     "end_time": "2017-11-28T18:25:29.042885Z",
     "start_time": "2017-11-28T18:25:29.036361Z"
    }
   },
   "outputs": [],
   "source": [
    "data = pd.read_csv(\"./Data/iris.data\", header=None)\n",
    "y = data[4].to_numpy()\n",
    "X = data.drop(4,axis=1).to_numpy()"
   ]
  },
  {
   "cell_type": "code",
   "execution_count": 16,
   "metadata": {},
   "outputs": [],
   "source": [
    "X_train, X_test, y_train, y_test = train_test_split(data[list(range(4))], data[4], test_size=0.2, random_state=None, stratify=data[4])\n",
    "\n",
    "X_train_setosa = X_train[y_train=='Iris-setosa'].to_numpy()\n",
    "X_train_versicolor = X_train[y_train=='Iris-versicolor'].to_numpy()\n",
    "X_train_virginica = X_train[y_train=='Iris-virginica'].to_numpy()\n",
    "\n",
    "y_train_setosa = y_train[y_train=='Iris-setosa'].to_numpy()\n",
    "y_train_versicolor = y_train[y_train=='Iris-versicolor'].to_numpy()\n",
    "y_train_virginica = y_train[y_train=='Iris-virginica'].to_numpy()\n",
    "\n",
    "X_test_setosa_v_v = X_test.to_numpy()\n",
    "y_test_setosa_v_v = (y_test == 'Iris-setosa').astype(int).to_numpy()\n",
    "\n",
    "X_test_versicolor_virginica = X_test[y_test!='Iris-setosa'].to_numpy()\n",
    "y_test_versicolor_virginica = (y_test[y_test!='Iris-setosa'] == 'Iris-versicolor').astype(int).to_numpy()"
   ]
  },
  {
   "cell_type": "code",
   "execution_count": 17,
   "metadata": {},
   "outputs": [],
   "source": [
    "def rand_vec(vec):\n",
    "    return vec[np.random.randint(0,vec.shape[0])]"
   ]
  },
  {
   "cell_type": "code",
   "execution_count": 18,
   "metadata": {
    "ExecuteTime": {
     "end_time": "2017-11-28T18:25:29.137051Z",
     "start_time": "2017-11-28T18:25:29.052564Z"
    }
   },
   "outputs": [],
   "source": [
    "class Perceptron(Classifier):\n",
    "    def fit(self, X, y, pocket=False, iterations=1000):\n",
    "        self.classes = np.unique(y)\n",
    "\n",
    "        datapoints, dims = X.shape\n",
    "            \n",
    "        self._appendOnes(X)\n",
    "        X[y==self.classes[1]] *= -1\n",
    "        self.omega = rand_vec(X)\n",
    "        \n",
    "        if pocket: \n",
    "            best_omega = self.omega\n",
    "            old_len = X.shape[0]\n",
    "        \n",
    "        changes = 0\n",
    "        while True:\n",
    "            wrong = X[X.dot(self.omega.T)<0]\n",
    "            if len(wrong) == 0:\n",
    "                break\n",
    "            if pocket:\n",
    "                if changes >= iterations:\n",
    "                    break\n",
    "                if len(wrong) < old_len:\n",
    "                    old_len = len(wrong)\n",
    "                    best_omega = self.omega\n",
    "\n",
    "            self.omega += rand_vec(wrong)\n",
    "            changes += 1\n",
    "        \n",
    "        if pocket: self.omega = best_omega\n",
    "        wrong = X[X.dot(self.omega.T)<0]\n",
    "        print(\"Finished training; Wrong:\", len(wrong), \"Total Changes:\", changes)\n",
    "        print(self.omega)\n",
    "        \n",
    "    def _appendOnes(self, X):\n",
    "        datapoints, dims = X.shape\n",
    "        np.concatenate((np.ones((datapoints, 1)), X),axis=1)\n",
    "    \n",
    "    def predict(self,X):\n",
    "        self._appendOnes(X)\n",
    "        y = X.dot(self.omega)\n",
    "        y = np.where(y>0, self.classes[0],self.classes[1])\n",
    "\n",
    "        return y"
   ]
  },
  {
   "cell_type": "code",
   "execution_count": 19,
   "metadata": {
    "ExecuteTime": {
     "end_time": "2017-11-28T18:25:29.155793Z",
     "start_time": "2017-11-28T18:25:29.138839Z"
    }
   },
   "outputs": [
    {
     "name": "stdout",
     "output_type": "stream",
     "text": [
      "Finished training; Wrong: 0 Total Changes: 6\n",
      "[ 1.7  4.9 -7.8 -3.2]\n",
      "Accuracy: 1.0\n",
      "Finished training; Wrong: 0 Total Changes: 4\n",
      "[ 2.   4.6 -6.  -3.3]\n",
      "Accuracy: 1.0\n"
     ]
    }
   ],
   "source": [
    "for i in ['Iris-versicolor','Iris-virginica']:\n",
    "    X_ = X[('Iris-setosa' == y) | (i == y)]\n",
    "    y_ = y[('Iris-setosa' == y) | (i == y)]\n",
    "\n",
    "    X_train, X_test, y_train, y_test = train_test_split(X_,y_)\n",
    "    \n",
    "    perc = Perceptron()\n",
    "    perc.fit(X_train,y_train)\n",
    "    \n",
    "    pred = perc.predict(X_test)\n",
    "    acc = perc.accuracy(y_test,pred)\n",
    "    \n",
    "    print(\"Accuracy:\", acc)"
   ]
  },
  {
   "cell_type": "code",
   "execution_count": 20,
   "metadata": {
    "ExecuteTime": {
     "end_time": "2017-11-28T18:26:00.052141Z",
     "start_time": "2017-11-28T18:25:49.881618Z"
    }
   },
   "outputs": [
    {
     "name": "stdout",
     "output_type": "stream",
     "text": [
      "Finished training; Wrong: 0 Total Changes: 198\n",
      "[ 29.6  30.6 -42.5 -37.7]\n",
      "Accuracy: 0.925\n"
     ]
    }
   ],
   "source": [
    "j = 'Iris-versicolor'\n",
    "i = 'Iris-virginica'\n",
    "\n",
    "X_ = X[(j == y) | (i == y)]\n",
    "y_ = y[(j == y) | (i == y)]\n",
    "\n",
    "X_tr,X_te,y_tr,y_te = train_test_split(X_,y_,test_size=0.4)\n",
    "\n",
    "perc = Perceptron()\n",
    "perc.fit(X_tr,y_tr,pocket=True,iterations=1000000)\n",
    "\n",
    "pred = perc.predict(X_te)\n",
    "acc = perc.accuracy(y_te,pred)\n",
    "\n",
    "print(\"Accuracy:\", acc)"
   ]
  },
  {
   "cell_type": "code",
   "execution_count": null,
   "metadata": {
    "collapsed": true
   },
   "outputs": [],
   "source": []
  }
 ],
 "metadata": {
  "kernelspec": {
   "display_name": "Python 3",
   "language": "python",
   "name": "python3"
  },
  "language_info": {
   "codemirror_mode": {
    "name": "ipython",
    "version": 3
   },
   "file_extension": ".py",
   "mimetype": "text/x-python",
   "name": "python",
   "nbconvert_exporter": "python",
   "pygments_lexer": "ipython3",
   "version": "3.8.0"
  },
  "toc": {
   "base_numbering": 1,
   "nav_menu": {},
   "number_sections": true,
   "sideBar": true,
   "skip_h1_title": false,
   "title_cell": "Table of Contents",
   "title_sidebar": "Contents",
   "toc_cell": false,
   "toc_position": {},
   "toc_section_display": "block",
   "toc_window_display": false
  },
  "varInspector": {
   "cols": {
    "lenName": 16,
    "lenType": 16,
    "lenVar": 40
   },
   "kernels_config": {
    "python": {
     "delete_cmd_postfix": "",
     "delete_cmd_prefix": "del ",
     "library": "var_list.py",
     "varRefreshCmd": "print(var_dic_list())"
    },
    "r": {
     "delete_cmd_postfix": ") ",
     "delete_cmd_prefix": "rm(",
     "library": "var_list.r",
     "varRefreshCmd": "cat(var_dic_list()) "
    }
   },
   "types_to_exclude": [
    "module",
    "function",
    "builtin_function_or_method",
    "instance",
    "_Feature"
   ],
   "window_display": false
  }
 },
 "nbformat": 4,
 "nbformat_minor": 2
}
