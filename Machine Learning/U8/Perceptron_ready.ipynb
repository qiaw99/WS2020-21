{
 "cells": [
  {
   "cell_type": "markdown",
   "metadata": {
    "id": "y3cWwlbatGdm"
   },
   "source": [
    "# Mustererkennung/Machine Learning - Assignment 8\n",
    "\n"
   ]
  },
  {
   "cell_type": "code",
   "execution_count": 67,
   "metadata": {
    "ExecuteTime": {
     "end_time": "2018-12-11T12:46:51.443420Z",
     "start_time": "2018-12-11T12:46:50.570749Z"
    },
    "id": "luPsF5SptGdt"
   },
   "outputs": [],
   "source": [
    "import numpy as np\n",
    "import pandas as pd\n",
    "from sklearn.model_selection import train_test_split\n",
    "from sklearn.utils import shuffle\n",
    "import matplotlib.pyplot as plt\n",
    "import seaborn as sns\n",
    "%matplotlib inline"
   ]
  },
  {
   "cell_type": "code",
   "execution_count": 68,
   "metadata": {
    "ExecuteTime": {
     "end_time": "2018-12-11T12:46:51.501147Z",
     "start_time": "2018-12-11T12:46:51.445163Z"
    },
    "colab": {
     "base_uri": "https://localhost:8080/",
     "height": 206
    },
    "id": "CpeeFeXKtGdu",
    "outputId": "cf860553-0831-4606-e3ca-81959af4ee2c"
   },
   "outputs": [
    {
     "data": {
      "text/html": [
       "<div>\n",
       "<style scoped>\n",
       "    .dataframe tbody tr th:only-of-type {\n",
       "        vertical-align: middle;\n",
       "    }\n",
       "\n",
       "    .dataframe tbody tr th {\n",
       "        vertical-align: top;\n",
       "    }\n",
       "\n",
       "    .dataframe thead th {\n",
       "        text-align: right;\n",
       "    }\n",
       "</style>\n",
       "<table border=\"1\" class=\"dataframe\">\n",
       "  <thead>\n",
       "    <tr style=\"text-align: right;\">\n",
       "      <th></th>\n",
       "      <th>0</th>\n",
       "      <th>1</th>\n",
       "      <th>2</th>\n",
       "      <th>3</th>\n",
       "      <th>4</th>\n",
       "    </tr>\n",
       "  </thead>\n",
       "  <tbody>\n",
       "    <tr>\n",
       "      <th>0</th>\n",
       "      <td>5.1</td>\n",
       "      <td>3.5</td>\n",
       "      <td>1.4</td>\n",
       "      <td>0.2</td>\n",
       "      <td>Iris-setosa</td>\n",
       "    </tr>\n",
       "    <tr>\n",
       "      <th>1</th>\n",
       "      <td>4.9</td>\n",
       "      <td>3.0</td>\n",
       "      <td>1.4</td>\n",
       "      <td>0.2</td>\n",
       "      <td>Iris-setosa</td>\n",
       "    </tr>\n",
       "    <tr>\n",
       "      <th>2</th>\n",
       "      <td>4.7</td>\n",
       "      <td>3.2</td>\n",
       "      <td>1.3</td>\n",
       "      <td>0.2</td>\n",
       "      <td>Iris-setosa</td>\n",
       "    </tr>\n",
       "    <tr>\n",
       "      <th>3</th>\n",
       "      <td>4.6</td>\n",
       "      <td>3.1</td>\n",
       "      <td>1.5</td>\n",
       "      <td>0.2</td>\n",
       "      <td>Iris-setosa</td>\n",
       "    </tr>\n",
       "    <tr>\n",
       "      <th>4</th>\n",
       "      <td>5.0</td>\n",
       "      <td>3.6</td>\n",
       "      <td>1.4</td>\n",
       "      <td>0.2</td>\n",
       "      <td>Iris-setosa</td>\n",
       "    </tr>\n",
       "  </tbody>\n",
       "</table>\n",
       "</div>"
      ],
      "text/plain": [
       "     0    1    2    3            4\n",
       "0  5.1  3.5  1.4  0.2  Iris-setosa\n",
       "1  4.9  3.0  1.4  0.2  Iris-setosa\n",
       "2  4.7  3.2  1.3  0.2  Iris-setosa\n",
       "3  4.6  3.1  1.5  0.2  Iris-setosa\n",
       "4  5.0  3.6  1.4  0.2  Iris-setosa"
      ]
     },
     "execution_count": 68,
     "metadata": {},
     "output_type": "execute_result"
    }
   ],
   "source": [
    "class Classifier:\n",
    "    \n",
    "    def accuracy(self, labels, predictions):\n",
    "        return np.mean(labels == predictions)\n",
    "\n",
    "\n",
    "data = pd.read_csv(\"C:\\\\Users\\\\38066\\\\Desktop\\\\ML\\\\u8\\\\iris.data\", header=None)\n",
    "data.head(n=5)"
   ]
  },
  {
   "cell_type": "markdown",
   "metadata": {
    "id": "8WaByN8YtGdx"
   },
   "source": [
    "#### Splitting the data into training/test and according to their class memberships"
   ]
  },
  {
   "cell_type": "code",
   "execution_count": 69,
   "metadata": {
    "ExecuteTime": {
     "end_time": "2018-12-11T12:46:51.517929Z",
     "start_time": "2018-12-11T12:46:51.502925Z"
    },
    "id": "E2-w2GzqtGdy"
   },
   "outputs": [],
   "source": [
    "X_train, X_test, y_train, y_test = train_test_split(data[list(range(4))], data[4], test_size=0.2, random_state=None, stratify=data[4])\n",
    "\n",
    "X_train_setosa = X_train[y_train=='Iris-setosa'].to_numpy()\n",
    "X_train_versicolor = X_train[y_train=='Iris-versicolor'].to_numpy()\n",
    "X_train_virginica = X_train[y_train=='Iris-virginica'].to_numpy()\n",
    "\n",
    "y_train_setosa = y_train[y_train=='Iris-setosa'].to_numpy()\n",
    "y_train_versicolor = y_train[y_train=='Iris-versicolor'].to_numpy()\n",
    "y_train_virginica = y_train[y_train=='Iris-virginica'].to_numpy()\n",
    "\n",
    "X_test_setosa_v_v = X_test.to_numpy()\n",
    "y_test_setosa_v_v = (y_test == 'Iris-setosa').astype(int).to_numpy()\n",
    "\n",
    "X_test_versicolor_virginica = X_test[y_test!='Iris-setosa'].to_numpy()\n",
    "y_test_versicolor_virginica = (y_test[y_test!='Iris-setosa'] == 'Iris-versicolor').astype(int).to_numpy()"
   ]
  },
  {
   "cell_type": "markdown",
   "metadata": {},
   "source": [
    "# Task 1: seperate Setosa from Versicolor and Virginica"
   ]
  },
  {
   "cell_type": "code",
   "execution_count": 70,
   "metadata": {},
   "outputs": [],
   "source": [
    "def sub_norm(w_1, w_2):\n",
    "    return np.linalg.norm(w_1-w_2)"
   ]
  },
  {
   "cell_type": "code",
   "execution_count": 71,
   "metadata": {},
   "outputs": [],
   "source": [
    "class Perceptron:\n",
    "    def __init__(self, w, theta):\n",
    "        self.w = w\n",
    "        self.theta = theta\n",
    "    \n",
    "    def fit(self, X_pos, X_neg, y_pos, y_neg):\n",
    "        # initialize the w\n",
    "        w_1 = np.mean(X_pos, 0)\n",
    "        \n",
    "        X_data = np.concatenate((X_pos, X_neg), axis=0)\n",
    "        \n",
    "        n_data = X_data.shape[0]\n",
    "        n_pos = X_pos.shape[0]\n",
    "        \n",
    "        for i in range(10000): \n",
    "            \n",
    "            w = w_1\n",
    "            \n",
    "            index = np.random.randint(n_data)\n",
    "            v = X_data[index]\n",
    "            \n",
    "            if(index < n_pos and w.T @ v > 0):\n",
    "                continue\n",
    "            \n",
    "            if(index < n_pos and w.T @ v <= 0):\n",
    "                w_1 = w + v\n",
    "            \n",
    "            if(index >= n_pos and w.T @ v < 0):\n",
    "                continue\n",
    "            \n",
    "            if(index >= n_pos and w.T @ v >= 0):\n",
    "                w_1 = w - v\n",
    "            \n",
    "            if(sub_norm(w_1, w) <= self.theta):\n",
    "                break\n",
    "        self.w = w_1\n",
    "        \n",
    "    def calculate(self, v):\n",
    "        if(self.w.T @ v > 0):\n",
    "            return 1\n",
    "        else:\n",
    "            return 0\n",
    "        \n",
    "    def predict(self, X_data):\n",
    "        num = X_data.shape[0]\n",
    "        res = np.zeros(num)\n",
    "        \n",
    "        for i in range(num):\n",
    "            if(self.calculate(X_data[i]) == 1):\n",
    "                res[i] = 1\n",
    "                \n",
    "        return res\n",
    "        \n",
    "    def accuracy(self, labels, predictions):\n",
    "        return np.mean(labels == predictions)"
   ]
  },
  {
   "cell_type": "code",
   "execution_count": 72,
   "metadata": {},
   "outputs": [],
   "source": [
    "perceptron = Perceptron(np.mean(X_train_setosa, 0),1e-3)"
   ]
  },
  {
   "cell_type": "code",
   "execution_count": 73,
   "metadata": {},
   "outputs": [
    {
     "name": "stdout",
     "output_type": "stream",
     "text": [
      "1.0\n"
     ]
    }
   ],
   "source": [
    "perceptron.fit(X_train_setosa, np.concatenate((X_train_versicolor, X_train_virginica)), y_train_setosa, np.concatenate((y_train_versicolor, y_train_virginica)))\n",
    "predictions = perceptron.predict(X_test_setosa_v_v)\n",
    "print(perceptron.accuracy(y_test_setosa_v_v, predictions))"
   ]
  },
  {
   "cell_type": "code",
   "execution_count": 74,
   "metadata": {},
   "outputs": [],
   "source": [
    "def sub_vec(X_data, v):\n",
    "    for i in range(len(X_data)):\n",
    "        X_data[i] -= v\n",
    "    return X_data"
   ]
  },
  {
   "cell_type": "code",
   "execution_count": 75,
   "metadata": {},
   "outputs": [
    {
     "name": "stdout",
     "output_type": "stream",
     "text": [
      "first run result:  0.5\n",
      "second run result:  0.5\n",
      "third run result:  0.5\n"
     ]
    }
   ],
   "source": [
    "X_test_versicolor = X_test[y_test=='Iris-versicolor']\n",
    "y_test_versicolor = y_test[y_test=='Iris-versicolor']\n",
    "\n",
    "\n",
    "\n",
    "#Trying to separate Versicolour from Virginica.\n",
    "\n",
    "predictions = perceptron.predict(X_test_versicolor_virginica)\n",
    "print(\"first run result: \", perceptron.accuracy(y_test_versicolor_virginica, predictions))\n",
    "\n",
    "predictions = perceptron.predict(X_test_versicolor_virginica)\n",
    "print(\"second run result: \", perceptron.accuracy(y_test_versicolor_virginica, predictions))\n",
    "\n",
    "predictions = perceptron.predict(X_test_versicolor_virginica)\n",
    "print(\"third run result: \", perceptron.accuracy(y_test_versicolor_virginica, predictions))\n",
    "\n",
    "\n"
   ]
  },
  {
   "cell_type": "markdown",
   "metadata": {},
   "source": [
    "##### In the description of the dataset is said that it can not be separated in a linear way.\n",
    "##### And we can see it, 50% is a bad accuracy. \n",
    "##### So we calculate mean and recenter data (Approach was introduced in the lecture)"
   ]
  },
  {
   "cell_type": "code",
   "execution_count": 76,
   "metadata": {},
   "outputs": [],
   "source": [
    "temp = np.mean(X_test_versicolor_virginica, 0)\n",
    "\n",
    "recentered_data = sub_vec(X_test_versicolor_virginica, temp)"
   ]
  },
  {
   "cell_type": "code",
   "execution_count": 77,
   "metadata": {},
   "outputs": [
    {
     "name": "stdout",
     "output_type": "stream",
     "text": [
      "0.95\n"
     ]
    }
   ],
   "source": [
    "#calculating with new data. Alternatively we can add bias b to every calculation.\n",
    "predictions = perceptron.predict(recentered_data)\n",
    "print(perceptron.accuracy(y_test_versicolor_virginica, predictions))"
   ]
  },
  {
   "cell_type": "markdown",
   "metadata": {},
   "source": [
    "### 95% is good"
   ]
  }
 ],
 "metadata": {
  "colab": {
   "name": "Perceptron.ipynb",
   "provenance": [],
   "toc_visible": true
  },
  "kernelspec": {
   "display_name": "Python 3",
   "language": "python",
   "name": "python3"
  },
  "language_info": {
   "codemirror_mode": {
    "name": "ipython",
    "version": 3
   },
   "file_extension": ".py",
   "mimetype": "text/x-python",
   "name": "python",
   "nbconvert_exporter": "python",
   "pygments_lexer": "ipython3",
   "version": "3.8.5"
  }
 },
 "nbformat": 4,
 "nbformat_minor": 1
}
