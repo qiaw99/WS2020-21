{
 "cells": [
  {
   "cell_type": "code",
   "execution_count": 1,
   "metadata": {
    "id": "JiaPQ9h-URsq"
   },
   "outputs": [],
   "source": [
    "import os\n",
    "import numpy as np\n",
    "import pandas as pd\n",
    "import matplotlib\n",
    "import matplotlib.pyplot as plt\n",
    "from enum import Enum"
   ]
  },
  {
   "cell_type": "code",
   "execution_count": 2,
   "metadata": {
    "id": "RA9k0GvvURtB"
   },
   "outputs": [],
   "source": [
    "class Colors(Enum):\n",
    "    blue = '#0A85FF'\n",
    "    darkblue = '#00264D'\n",
    "    green = '#99CC00'\n",
    "    darkgreen = '#739900'"
   ]
  },
  {
   "cell_type": "code",
   "execution_count": 3,
   "metadata": {
    "id": "veSfDjzDURtL"
   },
   "outputs": [],
   "source": [
    "battleground_path = './battleground-state-changes.csv'\n",
    "df = pd.read_csv(battleground_path)"
   ]
  },
  {
   "cell_type": "code",
   "execution_count": 4,
   "metadata": {
    "id": "MYQXlXm0URtT"
   },
   "outputs": [],
   "source": [
    "# Restructure data frame for easier access to Biden and Trump votes\n",
    "\n",
    "def get_candidate_votes(row):\n",
    "    if row['leading_candidate_name'] == 'Biden':\n",
    "        row['biden_votes'] = row['leading_candidate_votes']\n",
    "        row['trump_votes'] = row['trailing_candidate_votes']\n",
    "    elif row['leading_candidate_name'] == 'Trump':\n",
    "        row['biden_votes'] = row['trailing_candidate_votes']\n",
    "        row['trump_votes'] = row['leading_candidate_votes']\n",
    "    return row\n",
    "\n",
    "df = df.apply(get_candidate_votes, axis=1)"
   ]
  },
  {
   "cell_type": "code",
   "execution_count": 5,
   "metadata": {},
   "outputs": [
    {
     "name": "stdout",
     "output_type": "stream",
     "text": [
      "[[0 1]\n",
      " [3 4]\n",
      " [6 7]]\n"
     ]
    }
   ],
   "source": [
    "a = np.array([[0, 1, 2],\n",
    "       [3, 4, 5],\n",
    "       [6, 7, 8]])\n",
    "\n",
    "print(a[:,:-1])"
   ]
  },
  {
   "cell_type": "code",
   "execution_count": 6,
   "metadata": {
    "colab": {
     "base_uri": "https://localhost:8080/"
    },
    "id": "9fa-LOm9KwfJ",
    "outputId": "5cfa00ef-ea56-403d-c579-f5d1b4dd0f05"
   },
   "outputs": [],
   "source": [
    "class LinearRegression():\n",
    "  def __init__(self, w, b):\n",
    "    self.w = w\n",
    "    self.b = b\n",
    "    self.temp = 0\n",
    "\n",
    "  def fit(self,X,y):\n",
    "    one_col = np.ones([X.shape[0], 1])\n",
    "    X = np.hstack([X, one_col])\n",
    "    U, S, V = np.linalg.svd(X, full_matrices=False)\n",
    "    idx = np.where(S > 1e-10)\n",
    "    S_ = np.zeros(S.shape)\n",
    "    S_[idx] = 1 / S[idx]\n",
    "    S_ = np.diag(S_)\n",
    "    X_ = (V. conj().T).dot(S_).dot(U.conj().T)\n",
    "    self.temp = np.dot(X_, y)\n",
    "    \n",
    "#     wnorm = np.linalg.norm(temp)\n",
    "#     we = temp / wnorm\n",
    "#     points = np.linspace(0, 2, 100)\n",
    "#     fig = plt.figure()\n",
    "#     plt.scatter(X.dot(we), y)\n",
    "#     plt.plot(points, points * wnorm)\n",
    "#     plt.xlim(0, 0.04)\n",
    "#     plt.ylim(0, 0.03)\n",
    "#     print(temp)\n",
    "\n",
    "    w = self.temp[0]\n",
    "    b = self.temp[1]\n",
    "    return LinearRegression(w, b)\n",
    "  \n",
    "  def predict(self, x):\n",
    "    \"\"\" \n",
    "    Define the line here.\n",
    "    Map x to it's y coordinates. The set {(x,y) | x from input, y from output} \n",
    "    should define your line.\n",
    "    In this case x will be percentages reported like\n",
    "    np.linspace(0.94, 1, 100).reshape([-1,1]) from 94% to 100%\n",
    "    in Georgia\n",
    "    \"\"\"\n",
    "    # To compute y values by w^T * x\n",
    "    return np.dot(self.temp, x) "
   ]
  },
  {
   "cell_type": "code",
   "execution_count": 106,
   "metadata": {
    "id": "TUAaDSMxURtZ"
   },
   "outputs": [
    {
     "name": "stderr",
     "output_type": "stream",
     "text": [
      "<ipython-input-106-945358f0bb57>:3: SettingWithCopyWarning: \n",
      "A value is trying to be set on a copy of a slice from a DataFrame.\n",
      "Try using .loc[row_indexer,col_indexer] = value instead\n",
      "\n",
      "See the caveats in the documentation: https://pandas.pydata.org/pandas-docs/stable/user_guide/indexing.html#returning-a-view-versus-a-copy\n",
      "  df_py['percent_reporting'] = df_py['total_votes_count'] / int(7e+6)\n",
      "<ipython-input-106-945358f0bb57>:4: SettingWithCopyWarning: \n",
      "A value is trying to be set on a copy of a slice from a DataFrame.\n",
      "Try using .loc[row_indexer,col_indexer] = value instead\n",
      "\n",
      "See the caveats in the documentation: https://pandas.pydata.org/pandas-docs/stable/user_guide/indexing.html#returning-a-view-versus-a-copy\n",
      "  df_py['trump_lead'] = (df_py['trump_votes'] - df_py['biden_votes']) / df_py['total_votes_count']\n",
      "<ipython-input-106-945358f0bb57>:20: SettingWithCopyWarning: \n",
      "A value is trying to be set on a copy of a slice from a DataFrame.\n",
      "Try using .loc[row_indexer,col_indexer] = value instead\n",
      "\n",
      "See the caveats in the documentation: https://pandas.pydata.org/pandas-docs/stable/user_guide/indexing.html#returning-a-view-versus-a-copy\n",
      "  df_ga['percent_reporting'] = df_ga['total_votes_count'] / int(5.025e+6)\n",
      "<ipython-input-106-945358f0bb57>:21: SettingWithCopyWarning: \n",
      "A value is trying to be set on a copy of a slice from a DataFrame.\n",
      "Try using .loc[row_indexer,col_indexer] = value instead\n",
      "\n",
      "See the caveats in the documentation: https://pandas.pydata.org/pandas-docs/stable/user_guide/indexing.html#returning-a-view-versus-a-copy\n",
      "  df_ga['trump_lead'] = (df_ga['trump_votes'] - df_ga['biden_votes']) / df_ga['total_votes_count']\n"
     ]
    },
    {
     "data": {
      "text/plain": [
       "Text(0, 0.5, \"Trump's percentage lead\")"
      ]
     },
     "execution_count": 106,
     "metadata": {},
     "output_type": "execute_result"
    },
    {
     "data": {
      "image/png": "[encoded data removed]",
      "text/plain": [
       "<Figure size 1440x720 with 2 Axes>"
      ]
     },
     "metadata": {
      "needs_background": "light"
     },
     "output_type": "display_data"
    }
   ],
   "source": [
    "#Pennsylvania\n",
    "df_py = df[df['state'] == 'Pennsylvania (EV: 20)']\n",
    "df_py['percent_reporting'] = df_py['total_votes_count'] / int(7e+6)\n",
    "df_py['trump_lead'] = (df_py['trump_votes'] - df_py['biden_votes']) / df_py['total_votes_count']\n",
    "df_py = df_py.sort_values('percent_reporting', axis=0, ascending=False)\n",
    "\n",
    "# Only view votes that were counted before 90% were reported\n",
    "df_py = df_py[df_py['percent_reporting'] <= 0.9]\n",
    "\n",
    "X = df_py['percent_reporting'].to_numpy().reshape([-1, 1])\n",
    "y = df_py['trump_lead'].to_numpy()\n",
    "\n",
    "# Fit X to y using Linear Regression\n",
    "linear_py = LinearRegression(0,0).fit(X, y)\n",
    "\n",
    "#################################################################################################################\n",
    "\n",
    "#Georgia\n",
    "df_ga = df[df['state'] == 'Georgia (EV: 16)']\n",
    "df_ga['percent_reporting'] = df_ga['total_votes_count'] / int(5.025e+6)\n",
    "df_ga['trump_lead'] = (df_ga['trump_votes'] - df_ga['biden_votes']) / df_ga['total_votes_count']\n",
    "df_ga = df_ga.sort_values('percent_reporting', axis=0, ascending=False)\n",
    "\n",
    "# Only view votes that were counted before 97% were reported\n",
    "df_ga = df_ga[df_ga['percent_reporting'] <= 0.97]\n",
    "\n",
    "X = df_ga['percent_reporting'].to_numpy().reshape([-1, 1])\n",
    "y = df_ga['trump_lead'].to_numpy()\n",
    "\n",
    "# Fit X to y using Linear Regression\n",
    "linear_ga = LinearRegression(0,0).fit(X, y)\n",
    "\n",
    "#################################################################################################################\n",
    "fig, ax = plt.subplots(1, 2, figsize=(20, 10))\n",
    "ax[0].scatter(df_py['percent_reporting'] * 100, df_py['trump_lead'] * 100, marker='x', s=100, color=Colors.blue.value)\n",
    "x = np.linspace(0.8, 1, 100).reshape([-1,1])\n",
    "y = linear_py.predict(x)\n",
    "ax[0].set_xlim([85, 100])\n",
    "ax[0].set_xticks(range(80, 101, 2))\n",
    "\n",
    "ax[0].plot(x * 100, y * 100, linestyle='--', color=Colors.darkblue.value)\n",
    "\n",
    "ax[0].hlines(y=0, xmin=80, xmax=100, linestyle='--', color='black')\n",
    "ax[0].set_title('Pennsylvania (Expected total vote = 7.000.000)')\n",
    "\n",
    "w1 = linear_py.w\n",
    "b1 = linear_py.b\n",
    "ax[0].plot(x * 100, w1 * x * 100 + b1*100,\"yellow\")\n",
    "ax[0].plot((0 - b1) / w1 * 100, 0, 'ro')\n",
    "ax[0].vlines(x=(0 - b1) / w1 * 100, ymin=-8, ymax=8, linestyle='--', color='orange')\n",
    "ax[0].annotate('(93.96, 0)', xy=((0 - b1) / w1 * 100, 0), xytext=(96, 2.5),\n",
    "            xycoords='data',\n",
    "            arrowprops=dict(facecolor='black', shrink=0.01)\n",
    "            )\n",
    "\n",
    "#################################################################################################################\n",
    "\n",
    "ax[1].scatter(df_ga['percent_reporting'] * 100, df_ga['trump_lead'] * 100, marker='x', s=100, color=Colors.green.value)\n",
    "x = np.linspace(0.94, 1, 100).reshape([-1,1])\n",
    "y = linear_ga.predict(x)\n",
    "ax[1].set_xlim([94, 100])\n",
    "ax[1].set_xticks(range(94, 101, 1))\n",
    "ax[1].plot(x * 100, y * 100, linestyle='--', color=Colors.darkgreen.value)\n",
    "ax[1].hlines(y=0, xmin=94, xmax=100, linestyle='--', color='black')\n",
    "ax[1].set_title('Georgia (Expected total vote = 5.025.000)')\n",
    "\n",
    "w2 = linear_ga.w\n",
    "b2 = linear_ga.b\n",
    "ax[1].plot(x * 100, w2 * x * 100 + b2*100,\"green\")\n",
    "ax[1].plot((0 - b2) / w2 * 100, 0, 'ro')\n",
    "ax[1].vlines(x=(0 - b2) / w2 * 100, ymin=-2, ymax=4, linestyle='--', color='orange')\n",
    "ax[1].annotate('(98.87, 0)', xy=((0 - b2) / w2 * 100, 0), xytext=(96, -1),\n",
    "            xycoords='data',\n",
    "            arrowprops=dict(facecolor='black', shrink=0.01)\n",
    "            )\n",
    "\n",
    "ax[0].set_xlabel(\"Percent reporting\")\n",
    "ax[0].set_ylabel(\"Trump's percentage lead\")\n",
    "ax[1].set_ylabel(\"Trump's percentage lead\")\n",
    "# plt.savefig('trump_lead.svg', transparent=True)"
   ]
  },
  {
   "cell_type": "markdown",
   "metadata": {
    "id": "tcT3hCJUQOQ8"
   },
   "source": [
    "At what percentage of reported votes will Biden lead over Trump?"
   ]
  },
  {
   "cell_type": "code",
   "execution_count": 86,
   "metadata": {},
   "outputs": [
    {
     "name": "stdout",
     "output_type": "stream",
     "text": [
      "In Pennsylvania: 93.96%\n",
      "In Georgia: 98.87%\n"
     ]
    }
   ],
   "source": [
    "# y = w * x + b = 0 --> to get x coordinate \n",
    "y = 0\n",
    "w1 = linear_py.w\n",
    "b1 = linear_py.b\n",
    "print(\"In Pennsylvania: \", end='')\n",
    "print(str(round((y - b1) / w1 * 100, 2)) + \"%\")\n",
    "\n",
    "w2 = linear_ga.w\n",
    "b2 = linear_ga.b\n",
    "print(\"In Georgia: \", end='')\n",
    "print(str(round((y - b2) / w2 * 100, 2)) + \"%\")"
   ]
  },
  {
   "cell_type": "code",
   "execution_count": null,
   "metadata": {},
   "outputs": [],
   "source": []
  },
  {
   "cell_type": "code",
   "execution_count": null,
   "metadata": {},
   "outputs": [],
   "source": []
  },
  {
   "cell_type": "code",
   "execution_count": null,
   "metadata": {},
   "outputs": [],
   "source": []
  },
  {
   "cell_type": "code",
   "execution_count": null,
   "metadata": {},
   "outputs": [],
   "source": []
  },
  {
   "cell_type": "code",
   "execution_count": null,
   "metadata": {},
   "outputs": [],
   "source": []
  }
 ],
 "metadata": {
  "colab": {
   "collapsed_sections": [],
   "name": "Linear Regression: Trump vs Biden.ipynb",
   "provenance": []
  },
  "kernelspec": {
   "display_name": "Python 3",
   "language": "python",
   "name": "python3"
  },
  "language_info": {
   "codemirror_mode": {
    "name": "ipython",
    "version": 3
   },
   "file_extension": ".py",
   "mimetype": "text/x-python",
   "name": "python",
   "nbconvert_exporter": "python",
   "pygments_lexer": "ipython3",
   "version": "3.8.0"
  },
  "toc": {
   "base_numbering": 1,
   "nav_menu": {},
   "number_sections": true,
   "sideBar": true,
   "skip_h1_title": false,
   "title_cell": "Table of Contents",
   "title_sidebar": "Contents",
   "toc_cell": false,
   "toc_position": {},
   "toc_section_display": true,
   "toc_window_display": false
  },
  "varInspector": {
   "cols": {
    "lenName": 16,
    "lenType": 16,
    "lenVar": 40
   },
   "kernels_config": {
    "python": {
     "delete_cmd_postfix": "",
     "delete_cmd_prefix": "del ",
     "library": "var_list.py",
     "varRefreshCmd": "print(var_dic_list())"
    },
    "r": {
     "delete_cmd_postfix": ") ",
     "delete_cmd_prefix": "rm(",
     "library": "var_list.r",
     "varRefreshCmd": "cat(var_dic_list()) "
    }
   },
   "types_to_exclude": [
    "module",
    "function",
    "builtin_function_or_method",
    "instance",
    "_Feature"
   ],
   "window_display": false
  }
 },
 "nbformat": 4,
 "nbformat_minor": 1
}
