{
  "nbformat": 4,
  "nbformat_minor": 0,
  "metadata": {
    "colab": {
      "name": "VAE.ipynb",
      "provenance": [],
      "collapsed_sections": []
    },
    "kernelspec": {
      "name": "python3",
      "display_name": "Python 3"
    },
    "widgets": {
      "application/vnd.jupyter.widget-state+json": {
        "7d49957f84a444bc899fe846c7610fc7": {
          "model_module": "@jupyter-widgets/controls",
          "model_name": "HBoxModel",
          "state": {
            "_view_name": "HBoxView",
            "_dom_classes": [],
            "_model_name": "HBoxModel",
            "_view_module": "@jupyter-widgets/controls",
            "_model_module_version": "1.5.0",
            "_view_count": null,
            "_view_module_version": "1.5.0",
            "box_style": "",
            "layout": "IPY_MODEL_4813edfabd1f468fbbf362872dc99f83",
            "_model_module": "@jupyter-widgets/controls",
            "children": [
              "IPY_MODEL_8843acbc61a74b23989e1def23e86170",
              "IPY_MODEL_ce5be4ae7678435e9aa73aba59f73bfe"
            ]
          }
        },
        "4813edfabd1f468fbbf362872dc99f83": {
          "model_module": "@jupyter-widgets/base",
          "model_name": "LayoutModel",
          "state": {
            "_view_name": "LayoutView",
            "grid_template_rows": null,
            "right": null,
            "justify_content": null,
            "_view_module": "@jupyter-widgets/base",
            "overflow": null,
            "_model_module_version": "1.2.0",
            "_view_count": null,
            "flex_flow": null,
            "width": null,
            "min_width": null,
            "border": null,
            "align_items": null,
            "bottom": null,
            "_model_module": "@jupyter-widgets/base",
            "top": null,
            "grid_column": null,
            "overflow_y": null,
            "overflow_x": null,
            "grid_auto_flow": null,
            "grid_area": null,
            "grid_template_columns": null,
            "flex": null,
            "_model_name": "LayoutModel",
            "justify_items": null,
            "grid_row": null,
            "max_height": null,
            "align_content": null,
            "visibility": null,
            "align_self": null,
            "height": null,
            "min_height": null,
            "padding": null,
            "grid_auto_rows": null,
            "grid_gap": null,
            "max_width": null,
            "order": null,
            "_view_module_version": "1.2.0",
            "grid_template_areas": null,
            "object_position": null,
            "object_fit": null,
            "grid_auto_columns": null,
            "margin": null,
            "display": null,
            "left": null
          }
        },
        "8843acbc61a74b23989e1def23e86170": {
          "model_module": "@jupyter-widgets/controls",
          "model_name": "FloatProgressModel",
          "state": {
            "_view_name": "ProgressView",
            "style": "IPY_MODEL_4e7e0971ea1841788294ac4a097b46dc",
            "_dom_classes": [],
            "description": "",
            "_model_name": "FloatProgressModel",
            "bar_style": "success",
            "max": 1,
            "_view_module": "@jupyter-widgets/controls",
            "_model_module_version": "1.5.0",
            "value": 1,
            "_view_count": null,
            "_view_module_version": "1.5.0",
            "orientation": "horizontal",
            "min": 0,
            "description_tooltip": null,
            "_model_module": "@jupyter-widgets/controls",
            "layout": "IPY_MODEL_31a0aeb42dfe4458ba519e3bb8c67d6e"
          }
        },
        "ce5be4ae7678435e9aa73aba59f73bfe": {
          "model_module": "@jupyter-widgets/controls",
          "model_name": "HTMLModel",
          "state": {
            "_view_name": "HTMLView",
            "style": "IPY_MODEL_1eb4741712524e9e83d10ae9a716e201",
            "_dom_classes": [],
            "description": "",
            "_model_name": "HTMLModel",
            "placeholder": "​",
            "_view_module": "@jupyter-widgets/controls",
            "_model_module_version": "1.5.0",
            "value": " 9920512/? [00:01&lt;00:00, 8047253.34it/s]",
            "_view_count": null,
            "_view_module_version": "1.5.0",
            "description_tooltip": null,
            "_model_module": "@jupyter-widgets/controls",
            "layout": "IPY_MODEL_5ee4f334496c40a688fa42af9a10b6f5"
          }
        },
        "4e7e0971ea1841788294ac4a097b46dc": {
          "model_module": "@jupyter-widgets/controls",
          "model_name": "ProgressStyleModel",
          "state": {
            "_view_name": "StyleView",
            "_model_name": "ProgressStyleModel",
            "description_width": "initial",
            "_view_module": "@jupyter-widgets/base",
            "_model_module_version": "1.5.0",
            "_view_count": null,
            "_view_module_version": "1.2.0",
            "bar_color": null,
            "_model_module": "@jupyter-widgets/controls"
          }
        },
        "31a0aeb42dfe4458ba519e3bb8c67d6e": {
          "model_module": "@jupyter-widgets/base",
          "model_name": "LayoutModel",
          "state": {
            "_view_name": "LayoutView",
            "grid_template_rows": null,
            "right": null,
            "justify_content": null,
            "_view_module": "@jupyter-widgets/base",
            "overflow": null,
            "_model_module_version": "1.2.0",
            "_view_count": null,
            "flex_flow": null,
            "width": null,
            "min_width": null,
            "border": null,
            "align_items": null,
            "bottom": null,
            "_model_module": "@jupyter-widgets/base",
            "top": null,
            "grid_column": null,
            "overflow_y": null,
            "overflow_x": null,
            "grid_auto_flow": null,
            "grid_area": null,
            "grid_template_columns": null,
            "flex": null,
            "_model_name": "LayoutModel",
            "justify_items": null,
            "grid_row": null,
            "max_height": null,
            "align_content": null,
            "visibility": null,
            "align_self": null,
            "height": null,
            "min_height": null,
            "padding": null,
            "grid_auto_rows": null,
            "grid_gap": null,
            "max_width": null,
            "order": null,
            "_view_module_version": "1.2.0",
            "grid_template_areas": null,
            "object_position": null,
            "object_fit": null,
            "grid_auto_columns": null,
            "margin": null,
            "display": null,
            "left": null
          }
        },
        "1eb4741712524e9e83d10ae9a716e201": {
          "model_module": "@jupyter-widgets/controls",
          "model_name": "DescriptionStyleModel",
          "state": {
            "_view_name": "StyleView",
            "_model_name": "DescriptionStyleModel",
            "description_width": "",
            "_view_module": "@jupyter-widgets/base",
            "_model_module_version": "1.5.0",
            "_view_count": null,
            "_view_module_version": "1.2.0",
            "_model_module": "@jupyter-widgets/controls"
          }
        },
        "5ee4f334496c40a688fa42af9a10b6f5": {
          "model_module": "@jupyter-widgets/base",
          "model_name": "LayoutModel",
          "state": {
            "_view_name": "LayoutView",
            "grid_template_rows": null,
            "right": null,
            "justify_content": null,
            "_view_module": "@jupyter-widgets/base",
            "overflow": null,
            "_model_module_version": "1.2.0",
            "_view_count": null,
            "flex_flow": null,
            "width": null,
            "min_width": null,
            "border": null,
            "align_items": null,
            "bottom": null,
            "_model_module": "@jupyter-widgets/base",
            "top": null,
            "grid_column": null,
            "overflow_y": null,
            "overflow_x": null,
            "grid_auto_flow": null,
            "grid_area": null,
            "grid_template_columns": null,
            "flex": null,
            "_model_name": "LayoutModel",
            "justify_items": null,
            "grid_row": null,
            "max_height": null,
            "align_content": null,
            "visibility": null,
            "align_self": null,
            "height": null,
            "min_height": null,
            "padding": null,
            "grid_auto_rows": null,
            "grid_gap": null,
            "max_width": null,
            "order": null,
            "_view_module_version": "1.2.0",
            "grid_template_areas": null,
            "object_position": null,
            "object_fit": null,
            "grid_auto_columns": null,
            "margin": null,
            "display": null,
            "left": null
          }
        },
        "90fe02f397ab4aa797b008788ca72b04": {
          "model_module": "@jupyter-widgets/controls",
          "model_name": "HBoxModel",
          "state": {
            "_view_name": "HBoxView",
            "_dom_classes": [],
            "_model_name": "HBoxModel",
            "_view_module": "@jupyter-widgets/controls",
            "_model_module_version": "1.5.0",
            "_view_count": null,
            "_view_module_version": "1.5.0",
            "box_style": "",
            "layout": "IPY_MODEL_7c9cf8fb415e4a39a5a8078230c18810",
            "_model_module": "@jupyter-widgets/controls",
            "children": [
              "IPY_MODEL_56e687ea924041bcae1320e1df63458b",
              "IPY_MODEL_866eb69c3a0f4da7b0b1e6d11ab07b3e"
            ]
          }
        },
        "7c9cf8fb415e4a39a5a8078230c18810": {
          "model_module": "@jupyter-widgets/base",
          "model_name": "LayoutModel",
          "state": {
            "_view_name": "LayoutView",
            "grid_template_rows": null,
            "right": null,
            "justify_content": null,
            "_view_module": "@jupyter-widgets/base",
            "overflow": null,
            "_model_module_version": "1.2.0",
            "_view_count": null,
            "flex_flow": null,
            "width": null,
            "min_width": null,
            "border": null,
            "align_items": null,
            "bottom": null,
            "_model_module": "@jupyter-widgets/base",
            "top": null,
            "grid_column": null,
            "overflow_y": null,
            "overflow_x": null,
            "grid_auto_flow": null,
            "grid_area": null,
            "grid_template_columns": null,
            "flex": null,
            "_model_name": "LayoutModel",
            "justify_items": null,
            "grid_row": null,
            "max_height": null,
            "align_content": null,
            "visibility": null,
            "align_self": null,
            "height": null,
            "min_height": null,
            "padding": null,
            "grid_auto_rows": null,
            "grid_gap": null,
            "max_width": null,
            "order": null,
            "_view_module_version": "1.2.0",
            "grid_template_areas": null,
            "object_position": null,
            "object_fit": null,
            "grid_auto_columns": null,
            "margin": null,
            "display": null,
            "left": null
          }
        },
        "56e687ea924041bcae1320e1df63458b": {
          "model_module": "@jupyter-widgets/controls",
          "model_name": "FloatProgressModel",
          "state": {
            "_view_name": "ProgressView",
            "style": "IPY_MODEL_05e85adc2c7e4ad6bfc3d080f2615b2e",
            "_dom_classes": [],
            "description": "",
            "_model_name": "FloatProgressModel",
            "bar_style": "success",
            "max": 1,
            "_view_module": "@jupyter-widgets/controls",
            "_model_module_version": "1.5.0",
            "value": 1,
            "_view_count": null,
            "_view_module_version": "1.5.0",
            "orientation": "horizontal",
            "min": 0,
            "description_tooltip": null,
            "_model_module": "@jupyter-widgets/controls",
            "layout": "IPY_MODEL_e29d7e128d5f42e8b54c42154e62bb39"
          }
        },
        "866eb69c3a0f4da7b0b1e6d11ab07b3e": {
          "model_module": "@jupyter-widgets/controls",
          "model_name": "HTMLModel",
          "state": {
            "_view_name": "HTMLView",
            "style": "IPY_MODEL_546fc5fe4f0a4ad68640fe6037f4a678",
            "_dom_classes": [],
            "description": "",
            "_model_name": "HTMLModel",
            "placeholder": "​",
            "_view_module": "@jupyter-widgets/controls",
            "_model_module_version": "1.5.0",
            "value": " 32768/? [00:00&lt;00:00, 332377.97it/s]",
            "_view_count": null,
            "_view_module_version": "1.5.0",
            "description_tooltip": null,
            "_model_module": "@jupyter-widgets/controls",
            "layout": "IPY_MODEL_39f522b394b84576a4cd2767f4a06561"
          }
        },
        "05e85adc2c7e4ad6bfc3d080f2615b2e": {
          "model_module": "@jupyter-widgets/controls",
          "model_name": "ProgressStyleModel",
          "state": {
            "_view_name": "StyleView",
            "_model_name": "ProgressStyleModel",
            "description_width": "initial",
            "_view_module": "@jupyter-widgets/base",
            "_model_module_version": "1.5.0",
            "_view_count": null,
            "_view_module_version": "1.2.0",
            "bar_color": null,
            "_model_module": "@jupyter-widgets/controls"
          }
        },
        "e29d7e128d5f42e8b54c42154e62bb39": {
          "model_module": "@jupyter-widgets/base",
          "model_name": "LayoutModel",
          "state": {
            "_view_name": "LayoutView",
            "grid_template_rows": null,
            "right": null,
            "justify_content": null,
            "_view_module": "@jupyter-widgets/base",
            "overflow": null,
            "_model_module_version": "1.2.0",
            "_view_count": null,
            "flex_flow": null,
            "width": null,
            "min_width": null,
            "border": null,
            "align_items": null,
            "bottom": null,
            "_model_module": "@jupyter-widgets/base",
            "top": null,
            "grid_column": null,
            "overflow_y": null,
            "overflow_x": null,
            "grid_auto_flow": null,
            "grid_area": null,
            "grid_template_columns": null,
            "flex": null,
            "_model_name": "LayoutModel",
            "justify_items": null,
            "grid_row": null,
            "max_height": null,
            "align_content": null,
            "visibility": null,
            "align_self": null,
            "height": null,
            "min_height": null,
            "padding": null,
            "grid_auto_rows": null,
            "grid_gap": null,
            "max_width": null,
            "order": null,
            "_view_module_version": "1.2.0",
            "grid_template_areas": null,
            "object_position": null,
            "object_fit": null,
            "grid_auto_columns": null,
            "margin": null,
            "display": null,
            "left": null
          }
        },
        "546fc5fe4f0a4ad68640fe6037f4a678": {
          "model_module": "@jupyter-widgets/controls",
          "model_name": "DescriptionStyleModel",
          "state": {
            "_view_name": "StyleView",
            "_model_name": "DescriptionStyleModel",
            "description_width": "",
            "_view_module": "@jupyter-widgets/base",
            "_model_module_version": "1.5.0",
            "_view_count": null,
            "_view_module_version": "1.2.0",
            "_model_module": "@jupyter-widgets/controls"
          }
        },
        "39f522b394b84576a4cd2767f4a06561": {
          "model_module": "@jupyter-widgets/base",
          "model_name": "LayoutModel",
          "state": {
            "_view_name": "LayoutView",
            "grid_template_rows": null,
            "right": null,
            "justify_content": null,
            "_view_module": "@jupyter-widgets/base",
            "overflow": null,
            "_model_module_version": "1.2.0",
            "_view_count": null,
            "flex_flow": null,
            "width": null,
            "min_width": null,
            "border": null,
            "align_items": null,
            "bottom": null,
            "_model_module": "@jupyter-widgets/base",
            "top": null,
            "grid_column": null,
            "overflow_y": null,
            "overflow_x": null,
            "grid_auto_flow": null,
            "grid_area": null,
            "grid_template_columns": null,
            "flex": null,
            "_model_name": "LayoutModel",
            "justify_items": null,
            "grid_row": null,
            "max_height": null,
            "align_content": null,
            "visibility": null,
            "align_self": null,
            "height": null,
            "min_height": null,
            "padding": null,
            "grid_auto_rows": null,
            "grid_gap": null,
            "max_width": null,
            "order": null,
            "_view_module_version": "1.2.0",
            "grid_template_areas": null,
            "object_position": null,
            "object_fit": null,
            "grid_auto_columns": null,
            "margin": null,
            "display": null,
            "left": null
          }
        },
        "6ef81a50f6824af9b25947d2b9075689": {
          "model_module": "@jupyter-widgets/controls",
          "model_name": "HBoxModel",
          "state": {
            "_view_name": "HBoxView",
            "_dom_classes": [],
            "_model_name": "HBoxModel",
            "_view_module": "@jupyter-widgets/controls",
            "_model_module_version": "1.5.0",
            "_view_count": null,
            "_view_module_version": "1.5.0",
            "box_style": "",
            "layout": "IPY_MODEL_c63b20351e9f491b9e00e090d6c55d4d",
            "_model_module": "@jupyter-widgets/controls",
            "children": [
              "IPY_MODEL_a611c73fbf3d43eeaf0ba937c576d45d",
              "IPY_MODEL_d566c0b82f334e9ea3d69575d3038a4b"
            ]
          }
        },
        "c63b20351e9f491b9e00e090d6c55d4d": {
          "model_module": "@jupyter-widgets/base",
          "model_name": "LayoutModel",
          "state": {
            "_view_name": "LayoutView",
            "grid_template_rows": null,
            "right": null,
            "justify_content": null,
            "_view_module": "@jupyter-widgets/base",
            "overflow": null,
            "_model_module_version": "1.2.0",
            "_view_count": null,
            "flex_flow": null,
            "width": null,
            "min_width": null,
            "border": null,
            "align_items": null,
            "bottom": null,
            "_model_module": "@jupyter-widgets/base",
            "top": null,
            "grid_column": null,
            "overflow_y": null,
            "overflow_x": null,
            "grid_auto_flow": null,
            "grid_area": null,
            "grid_template_columns": null,
            "flex": null,
            "_model_name": "LayoutModel",
            "justify_items": null,
            "grid_row": null,
            "max_height": null,
            "align_content": null,
            "visibility": null,
            "align_self": null,
            "height": null,
            "min_height": null,
            "padding": null,
            "grid_auto_rows": null,
            "grid_gap": null,
            "max_width": null,
            "order": null,
            "_view_module_version": "1.2.0",
            "grid_template_areas": null,
            "object_position": null,
            "object_fit": null,
            "grid_auto_columns": null,
            "margin": null,
            "display": null,
            "left": null
          }
        },
        "a611c73fbf3d43eeaf0ba937c576d45d": {
          "model_module": "@jupyter-widgets/controls",
          "model_name": "FloatProgressModel",
          "state": {
            "_view_name": "ProgressView",
            "style": "IPY_MODEL_a310d6611e3f4c6791642c934f4bb046",
            "_dom_classes": [],
            "description": "  0%",
            "_model_name": "FloatProgressModel",
            "bar_style": "info",
            "max": 1,
            "_view_module": "@jupyter-widgets/controls",
            "_model_module_version": "1.5.0",
            "value": 0,
            "_view_count": null,
            "_view_module_version": "1.5.0",
            "orientation": "horizontal",
            "min": 0,
            "description_tooltip": null,
            "_model_module": "@jupyter-widgets/controls",
            "layout": "IPY_MODEL_26d265a08aee41f4b9c8f583348327b2"
          }
        },
        "d566c0b82f334e9ea3d69575d3038a4b": {
          "model_module": "@jupyter-widgets/controls",
          "model_name": "HTMLModel",
          "state": {
            "_view_name": "HTMLView",
            "style": "IPY_MODEL_bcfb9004c3d946c2a3dfd2ee5826d50b",
            "_dom_classes": [],
            "description": "",
            "_model_name": "HTMLModel",
            "placeholder": "​",
            "_view_module": "@jupyter-widgets/controls",
            "_model_module_version": "1.5.0",
            "value": " 0/1648877 [00:00&lt;?, ?it/s]",
            "_view_count": null,
            "_view_module_version": "1.5.0",
            "description_tooltip": null,
            "_model_module": "@jupyter-widgets/controls",
            "layout": "IPY_MODEL_9be240dc042b42fd8ff3697f24d1213a"
          }
        },
        "a310d6611e3f4c6791642c934f4bb046": {
          "model_module": "@jupyter-widgets/controls",
          "model_name": "ProgressStyleModel",
          "state": {
            "_view_name": "StyleView",
            "_model_name": "ProgressStyleModel",
            "description_width": "initial",
            "_view_module": "@jupyter-widgets/base",
            "_model_module_version": "1.5.0",
            "_view_count": null,
            "_view_module_version": "1.2.0",
            "bar_color": null,
            "_model_module": "@jupyter-widgets/controls"
          }
        },
        "26d265a08aee41f4b9c8f583348327b2": {
          "model_module": "@jupyter-widgets/base",
          "model_name": "LayoutModel",
          "state": {
            "_view_name": "LayoutView",
            "grid_template_rows": null,
            "right": null,
            "justify_content": null,
            "_view_module": "@jupyter-widgets/base",
            "overflow": null,
            "_model_module_version": "1.2.0",
            "_view_count": null,
            "flex_flow": null,
            "width": null,
            "min_width": null,
            "border": null,
            "align_items": null,
            "bottom": null,
            "_model_module": "@jupyter-widgets/base",
            "top": null,
            "grid_column": null,
            "overflow_y": null,
            "overflow_x": null,
            "grid_auto_flow": null,
            "grid_area": null,
            "grid_template_columns": null,
            "flex": null,
            "_model_name": "LayoutModel",
            "justify_items": null,
            "grid_row": null,
            "max_height": null,
            "align_content": null,
            "visibility": null,
            "align_self": null,
            "height": null,
            "min_height": null,
            "padding": null,
            "grid_auto_rows": null,
            "grid_gap": null,
            "max_width": null,
            "order": null,
            "_view_module_version": "1.2.0",
            "grid_template_areas": null,
            "object_position": null,
            "object_fit": null,
            "grid_auto_columns": null,
            "margin": null,
            "display": null,
            "left": null
          }
        },
        "bcfb9004c3d946c2a3dfd2ee5826d50b": {
          "model_module": "@jupyter-widgets/controls",
          "model_name": "DescriptionStyleModel",
          "state": {
            "_view_name": "StyleView",
            "_model_name": "DescriptionStyleModel",
            "description_width": "",
            "_view_module": "@jupyter-widgets/base",
            "_model_module_version": "1.5.0",
            "_view_count": null,
            "_view_module_version": "1.2.0",
            "_model_module": "@jupyter-widgets/controls"
          }
        },
        "9be240dc042b42fd8ff3697f24d1213a": {
          "model_module": "@jupyter-widgets/base",
          "model_name": "LayoutModel",
          "state": {
            "_view_name": "LayoutView",
            "grid_template_rows": null,
            "right": null,
            "justify_content": null,
            "_view_module": "@jupyter-widgets/base",
            "overflow": null,
            "_model_module_version": "1.2.0",
            "_view_count": null,
            "flex_flow": null,
            "width": null,
            "min_width": null,
            "border": null,
            "align_items": null,
            "bottom": null,
            "_model_module": "@jupyter-widgets/base",
            "top": null,
            "grid_column": null,
            "overflow_y": null,
            "overflow_x": null,
            "grid_auto_flow": null,
            "grid_area": null,
            "grid_template_columns": null,
            "flex": null,
            "_model_name": "LayoutModel",
            "justify_items": null,
            "grid_row": null,
            "max_height": null,
            "align_content": null,
            "visibility": null,
            "align_self": null,
            "height": null,
            "min_height": null,
            "padding": null,
            "grid_auto_rows": null,
            "grid_gap": null,
            "max_width": null,
            "order": null,
            "_view_module_version": "1.2.0",
            "grid_template_areas": null,
            "object_position": null,
            "object_fit": null,
            "grid_auto_columns": null,
            "margin": null,
            "display": null,
            "left": null
          }
        },
        "c3ad977723a9493ba63604f846dffbf6": {
          "model_module": "@jupyter-widgets/controls",
          "model_name": "HBoxModel",
          "state": {
            "_view_name": "HBoxView",
            "_dom_classes": [],
            "_model_name": "HBoxModel",
            "_view_module": "@jupyter-widgets/controls",
            "_model_module_version": "1.5.0",
            "_view_count": null,
            "_view_module_version": "1.5.0",
            "box_style": "",
            "layout": "IPY_MODEL_9d3419018dd24f88a87464a1da40ecf7",
            "_model_module": "@jupyter-widgets/controls",
            "children": [
              "IPY_MODEL_c6b1ac935e9449f595058a7295a00403",
              "IPY_MODEL_ca114bd86e554dbbafcfb4b926aa3d5d"
            ]
          }
        },
        "9d3419018dd24f88a87464a1da40ecf7": {
          "model_module": "@jupyter-widgets/base",
          "model_name": "LayoutModel",
          "state": {
            "_view_name": "LayoutView",
            "grid_template_rows": null,
            "right": null,
            "justify_content": null,
            "_view_module": "@jupyter-widgets/base",
            "overflow": null,
            "_model_module_version": "1.2.0",
            "_view_count": null,
            "flex_flow": null,
            "width": null,
            "min_width": null,
            "border": null,
            "align_items": null,
            "bottom": null,
            "_model_module": "@jupyter-widgets/base",
            "top": null,
            "grid_column": null,
            "overflow_y": null,
            "overflow_x": null,
            "grid_auto_flow": null,
            "grid_area": null,
            "grid_template_columns": null,
            "flex": null,
            "_model_name": "LayoutModel",
            "justify_items": null,
            "grid_row": null,
            "max_height": null,
            "align_content": null,
            "visibility": null,
            "align_self": null,
            "height": null,
            "min_height": null,
            "padding": null,
            "grid_auto_rows": null,
            "grid_gap": null,
            "max_width": null,
            "order": null,
            "_view_module_version": "1.2.0",
            "grid_template_areas": null,
            "object_position": null,
            "object_fit": null,
            "grid_auto_columns": null,
            "margin": null,
            "display": null,
            "left": null
          }
        },
        "c6b1ac935e9449f595058a7295a00403": {
          "model_module": "@jupyter-widgets/controls",
          "model_name": "FloatProgressModel",
          "state": {
            "_view_name": "ProgressView",
            "style": "IPY_MODEL_f403eae3c6c0414faa40af859abd203d",
            "_dom_classes": [],
            "description": "",
            "_model_name": "FloatProgressModel",
            "bar_style": "success",
            "max": 1,
            "_view_module": "@jupyter-widgets/controls",
            "_model_module_version": "1.5.0",
            "value": 1,
            "_view_count": null,
            "_view_module_version": "1.5.0",
            "orientation": "horizontal",
            "min": 0,
            "description_tooltip": null,
            "_model_module": "@jupyter-widgets/controls",
            "layout": "IPY_MODEL_02fbe7b153fe4224a63010a9fbad61e1"
          }
        },
        "ca114bd86e554dbbafcfb4b926aa3d5d": {
          "model_module": "@jupyter-widgets/controls",
          "model_name": "HTMLModel",
          "state": {
            "_view_name": "HTMLView",
            "style": "IPY_MODEL_0a8dc7c2e6aa4e7cbd62afce20080092",
            "_dom_classes": [],
            "description": "",
            "_model_name": "HTMLModel",
            "placeholder": "​",
            "_view_module": "@jupyter-widgets/controls",
            "_model_module_version": "1.5.0",
            "value": " 8192/? [00:02&lt;00:00, 3133.30it/s]",
            "_view_count": null,
            "_view_module_version": "1.5.0",
            "description_tooltip": null,
            "_model_module": "@jupyter-widgets/controls",
            "layout": "IPY_MODEL_956f294857f14708a5f4ef0c13c1cbc6"
          }
        },
        "f403eae3c6c0414faa40af859abd203d": {
          "model_module": "@jupyter-widgets/controls",
          "model_name": "ProgressStyleModel",
          "state": {
            "_view_name": "StyleView",
            "_model_name": "ProgressStyleModel",
            "description_width": "initial",
            "_view_module": "@jupyter-widgets/base",
            "_model_module_version": "1.5.0",
            "_view_count": null,
            "_view_module_version": "1.2.0",
            "bar_color": null,
            "_model_module": "@jupyter-widgets/controls"
          }
        },
        "02fbe7b153fe4224a63010a9fbad61e1": {
          "model_module": "@jupyter-widgets/base",
          "model_name": "LayoutModel",
          "state": {
            "_view_name": "LayoutView",
            "grid_template_rows": null,
            "right": null,
            "justify_content": null,
            "_view_module": "@jupyter-widgets/base",
            "overflow": null,
            "_model_module_version": "1.2.0",
            "_view_count": null,
            "flex_flow": null,
            "width": null,
            "min_width": null,
            "border": null,
            "align_items": null,
            "bottom": null,
            "_model_module": "@jupyter-widgets/base",
            "top": null,
            "grid_column": null,
            "overflow_y": null,
            "overflow_x": null,
            "grid_auto_flow": null,
            "grid_area": null,
            "grid_template_columns": null,
            "flex": null,
            "_model_name": "LayoutModel",
            "justify_items": null,
            "grid_row": null,
            "max_height": null,
            "align_content": null,
            "visibility": null,
            "align_self": null,
            "height": null,
            "min_height": null,
            "padding": null,
            "grid_auto_rows": null,
            "grid_gap": null,
            "max_width": null,
            "order": null,
            "_view_module_version": "1.2.0",
            "grid_template_areas": null,
            "object_position": null,
            "object_fit": null,
            "grid_auto_columns": null,
            "margin": null,
            "display": null,
            "left": null
          }
        },
        "0a8dc7c2e6aa4e7cbd62afce20080092": {
          "model_module": "@jupyter-widgets/controls",
          "model_name": "DescriptionStyleModel",
          "state": {
            "_view_name": "StyleView",
            "_model_name": "DescriptionStyleModel",
            "description_width": "",
            "_view_module": "@jupyter-widgets/base",
            "_model_module_version": "1.5.0",
            "_view_count": null,
            "_view_module_version": "1.2.0",
            "_model_module": "@jupyter-widgets/controls"
          }
        },
        "956f294857f14708a5f4ef0c13c1cbc6": {
          "model_module": "@jupyter-widgets/base",
          "model_name": "LayoutModel",
          "state": {
            "_view_name": "LayoutView",
            "grid_template_rows": null,
            "right": null,
            "justify_content": null,
            "_view_module": "@jupyter-widgets/base",
            "overflow": null,
            "_model_module_version": "1.2.0",
            "_view_count": null,
            "flex_flow": null,
            "width": null,
            "min_width": null,
            "border": null,
            "align_items": null,
            "bottom": null,
            "_model_module": "@jupyter-widgets/base",
            "top": null,
            "grid_column": null,
            "overflow_y": null,
            "overflow_x": null,
            "grid_auto_flow": null,
            "grid_area": null,
            "grid_template_columns": null,
            "flex": null,
            "_model_name": "LayoutModel",
            "justify_items": null,
            "grid_row": null,
            "max_height": null,
            "align_content": null,
            "visibility": null,
            "align_self": null,
            "height": null,
            "min_height": null,
            "padding": null,
            "grid_auto_rows": null,
            "grid_gap": null,
            "max_width": null,
            "order": null,
            "_view_module_version": "1.2.0",
            "grid_template_areas": null,
            "object_position": null,
            "object_fit": null,
            "grid_auto_columns": null,
            "margin": null,
            "display": null,
            "left": null
          }
        }
      }
    },
    "accelerator": "GPU"
  },
  "cells": [
    {
      "cell_type": "code",
      "metadata": {
        "id": "HbUPZi62u63p"
      },
      "source": [
        "import os\r\n",
        "import torch\r\n",
        "import torch.nn as nn\r\n",
        "import torch.nn.functional as F\r\n",
        "import torchvision\r\n",
        "\r\n",
        "from torch import nn, optim\r\n",
        "from torch.autograd import Variable\r\n",
        "from torchvision import transforms, datasets\r\n",
        "from torch.utils.data import DataLoader\r\n",
        "from torchvision.utils import save_image\r\n",
        "\r\n",
        "import matplotlib.pyplot as plt\r\n",
        "import matplotlib.image as mpimg \r\n",
        "import numpy as np"
      ],
      "execution_count": 1,
      "outputs": []
    },
    {
      "cell_type": "markdown",
      "metadata": {
        "id": "5VIRuH_mAJj-"
      },
      "source": [
        "# Task 1"
      ]
    },
    {
      "cell_type": "code",
      "metadata": {
        "id": "Alf3XTq1_muG"
      },
      "source": [
        "# load the data set\r\n",
        "def get_data():\r\n",
        "    # Normalize the data between [-1, 1] so that it can be convergent easily \r\n",
        "    data_tf = transforms.Compose([transforms.ToTensor(), transforms.Normalize([0.5], [0.5])])\r\n",
        "    train_dataset = datasets.MNIST(root='./data', train=True, transform=data_tf, download=True)\r\n",
        "    train_loader = DataLoader(train_dataset, shuffle=True, batch_size=batch_size, drop_last=True)\r\n",
        "    return train_loader\r\n",
        "\r\n",
        "def to_img(x):\r\n",
        "    x = (x + 1.) * 0.5\r\n",
        "    x = x.clamp(0, 1)\r\n",
        "    x = x.view(x.size(0), 1, 28, 28)\r\n",
        "    return x\r\n",
        "\r\n",
        "class autoencoder(nn.Module):\r\n",
        "    def __init__(self):\r\n",
        "        super(autoencoder, self).__init__()\r\n",
        "        self.encoder = nn.Sequential(nn.Linear(28*28, 128),\r\n",
        "                          nn.ReLU(True),\r\n",
        "                          nn.Linear(128, 64),\r\n",
        "                          nn.ReLU(True),\r\n",
        "                          nn.Linear(64, 12),\r\n",
        "                          nn.ReLU(True),\r\n",
        "                          nn.Linear(12, 3)\r\n",
        "                        )\r\n",
        "        self.decoder = nn.Sequential(nn.Linear(3, 12),\r\n",
        "                          nn.ReLU(True),\r\n",
        "                          nn.Linear(12, 64),\r\n",
        "                          nn.ReLU(True),\r\n",
        "                          nn.Linear(64, 128),\r\n",
        "                          nn.ReLU(True),\r\n",
        "                          nn.Linear(128, 28*28),\r\n",
        "                          nn.Tanh()\r\n",
        "                        )\r\n",
        "    def forward(self, x):\r\n",
        "        encode = self.encoder(x)\r\n",
        "        decode = self.decoder(encode)\r\n",
        "        return encode, decode"
      ],
      "execution_count": 2,
      "outputs": []
    },
    {
      "cell_type": "code",
      "metadata": {
        "id": "YjO_3ibV_qIt"
      },
      "source": [
        "# Configuration of hyperparameters\r\n",
        "batch_size = 128\r\n",
        "lr = 1e-2\r\n",
        "weight_decay = 1e-5\r\n",
        "epoches = 20\r\n",
        "\r\n",
        "model = autoencoder()\r\n",
        "\r\n",
        "device = torch.device(\"cuda:0\" if torch.cuda.is_available() else \"cpu\")\r\n",
        "model.to(device)\r\n",
        "\r\n",
        "# Use up GPUs\r\n",
        "if torch.cuda.device_count() > 1:\r\n",
        "  print(\"Let's use\", torch.cuda.device_count(), \"GPUs\")\r\n",
        "  model = nn.DataParallel(model)"
      ],
      "execution_count": 3,
      "outputs": []
    },
    {
      "cell_type": "code",
      "metadata": {
        "id": "34r5gPkfO980"
      },
      "source": [
        "input_list = []\r\n",
        "output_list = []\r\n",
        "i = 15"
      ],
      "execution_count": 4,
      "outputs": []
    },
    {
      "cell_type": "code",
      "metadata": {
        "colab": {
          "base_uri": "https://localhost:8080/"
        },
        "id": "LN29NssB_vS4",
        "outputId": "14d6fd48-3926-4def-bbb0-c2e5a08cf93b"
      },
      "source": [
        "train_data = get_data()\r\n",
        "criterion = nn.MSELoss()\r\n",
        "optimizier = optim.Adam(model.parameters(), lr=lr, weight_decay=weight_decay)\r\n",
        "\r\n",
        "if torch.cuda.is_available():\r\n",
        "    model.cuda()\r\n",
        "    print(\"using GPU\")\r\n",
        "\r\n",
        "for epoch in range(epoches):\r\n",
        "    if epoch in [epoches * 0.25, epoches * 0.5]:\r\n",
        "        for param_group in optimizier.param_groups:\r\n",
        "            param_group['lr'] *= 0.1\r\n",
        "    temp_1 = None\r\n",
        "    temp_2 = None\r\n",
        "    for img, _ in train_data:\r\n",
        "        img = img.view(img.size(0), -1)\r\n",
        "        img = img.to(device)\r\n",
        "\r\n",
        "        temp_1 = img\r\n",
        "\r\n",
        "        # forward        \r\n",
        "        _, output = model(img)\r\n",
        "        loss = criterion(output, img)\r\n",
        "\r\n",
        "        temp_2 = output\r\n",
        "        \r\n",
        "        # backward\r\n",
        "        optimizier.zero_grad()\r\n",
        "        loss.backward()\r\n",
        "        optimizier.step()\r\n",
        "\r\n",
        "    print(\"epoch=\", epoch, loss.data.float())\r\n",
        "\r\n",
        "    if(i <= 20):\r\n",
        "      input_list.append(temp_1)\r\n",
        "      output_list.append(temp_2)\r\n",
        "      i += 1\r\n",
        "\r\n",
        "    for param_group in optimizier.param_groups:\r\n",
        "        print(param_group['lr'])\r\n",
        "\r\n",
        "    if (epoch+1) % 5 == 0:\r\n",
        "        print(\"epoch: {}, loss is {}\".format((epoch+1), loss.data))\r\n",
        "        pic = to_img(output.cpu().data)\r\n",
        "        if not os.path.exists('./simple_autoencoder'):\r\n",
        "            os.mkdir('./simple_autoencoder')\r\n",
        "        save_image(pic, './simple_autoencoder/image_{}.png'.format(epoch + 1))"
      ],
      "execution_count": 6,
      "outputs": [
        {
          "output_type": "stream",
          "text": [
            "using GPU\n",
            "epoch= 0 tensor(0.1431, device='cuda:0')\n",
            "0.01\n",
            "epoch= 1 tensor(0.1390, device='cuda:0')\n",
            "0.01\n",
            "epoch= 2 tensor(0.1413, device='cuda:0')\n",
            "0.01\n",
            "epoch= 3 tensor(0.1413, device='cuda:0')\n",
            "0.01\n",
            "epoch= 4 tensor(0.1438, device='cuda:0')\n",
            "0.01\n",
            "epoch: 5, loss is 0.1438438594341278\n",
            "epoch= 5 tensor(0.1228, device='cuda:0')\n",
            "0.001\n",
            "epoch= 6 tensor(0.1350, device='cuda:0')\n",
            "0.001\n",
            "epoch= 7 tensor(0.1232, device='cuda:0')\n",
            "0.001\n",
            "epoch= 8 tensor(0.1275, device='cuda:0')\n",
            "0.001\n",
            "epoch= 9 tensor(0.1283, device='cuda:0')\n",
            "0.001\n",
            "epoch: 10, loss is 0.12831085920333862\n",
            "epoch= 10 tensor(0.1250, device='cuda:0')\n",
            "0.0001\n",
            "epoch= 11 tensor(0.1245, device='cuda:0')\n",
            "0.0001\n",
            "epoch= 12 tensor(0.1316, device='cuda:0')\n",
            "0.0001\n",
            "epoch= 13 tensor(0.1235, device='cuda:0')\n",
            "0.0001\n",
            "epoch= 14 tensor(0.1208, device='cuda:0')\n",
            "0.0001\n",
            "epoch: 15, loss is 0.12082014232873917\n",
            "epoch= 15 tensor(0.1191, device='cuda:0')\n",
            "0.0001\n",
            "epoch= 16 tensor(0.1340, device='cuda:0')\n",
            "0.0001\n",
            "epoch= 17 tensor(0.1288, device='cuda:0')\n",
            "0.0001\n",
            "epoch= 18 tensor(0.1392, device='cuda:0')\n",
            "0.0001\n",
            "epoch= 19 tensor(0.1265, device='cuda:0')\n",
            "0.0001\n",
            "epoch: 20, loss is 0.12652543187141418\n"
          ],
          "name": "stdout"
        }
      ]
    },
    {
      "cell_type": "code",
      "metadata": {
        "id": "InYM32LtM4P8"
      },
      "source": [
        "def show_digit(v):\r\n",
        "  code = Variable(torch.FloatTensor([v]).cuda())\r\n",
        "  decode = model.decoder(code)\r\n",
        "  decode_img = to_img(decode).squeeze()\r\n",
        "  decode_img = decode_img.data.cpu().numpy() * 255\r\n",
        "  plt.imshow(decode_img.astype('uint8'), cmap='gray')\r\n",
        "  plt.show()"
      ],
      "execution_count": null,
      "outputs": []
    },
    {
      "cell_type": "code",
      "metadata": {
        "colab": {
          "base_uri": "https://localhost:8080/"
        },
        "id": "YCQFRgYC0EhH",
        "outputId": "d773c89f-f552-42c6-b4cd-e630182e93e8"
      },
      "source": [
        "# len(input_list)\r\n",
        "# input_list[0].size()\r\n",
        "\r\n",
        "len(output_list)\r\n",
        "output_list[0].size()"
      ],
      "execution_count": 16,
      "outputs": [
        {
          "output_type": "execute_result",
          "data": {
            "text/plain": [
              "torch.Size([128, 784])"
            ]
          },
          "metadata": {
            "tags": []
          },
          "execution_count": 16
        }
      ]
    },
    {
      "cell_type": "code",
      "metadata": {
        "id": "bjA24rTUY6vZ",
        "colab": {
          "base_uri": "https://localhost:8080/"
        },
        "outputId": "5ddd2112-4ffb-4b20-e9dc-53db76185ee4"
      },
      "source": [
        "input = input_list[:5]\r\n",
        "output = output_list[:5]\r\n",
        "\r\n",
        "print(input[0].size())\r\n",
        "\r\n",
        "for i in range(5):\r\n",
        "  input[i] = input[i].cpu().detach().numpy().reshape([128,28,28])\r\n",
        "  output[i] = output[i].data.cpu().reshape([128,28,28])"
      ],
      "execution_count": 24,
      "outputs": [
        {
          "output_type": "stream",
          "text": [
            "torch.Size([128, 784])\n"
          ],
          "name": "stdout"
        }
      ]
    },
    {
      "cell_type": "code",
      "metadata": {
        "colab": {
          "base_uri": "https://localhost:8080/",
          "height": 286
        },
        "id": "L94fqxEebpyH",
        "outputId": "7a2834ff-3335-4253-b1ed-7a28b5eeef4c"
      },
      "source": [
        "fig, axes = plt.subplots(nrows=2, ncols=5, sharex=True, sharey=True, figsize=(25,4))\r\n",
        "\r\n",
        "plt.figure()\r\n",
        "print(input[i][0].shape)\r\n",
        "\r\n",
        "for images, row in zip([input, output], axes):\r\n",
        "  for img, ax in zip(images, row):\r\n",
        "    ax.imshow(img[i], cmap='gray')\r\n",
        "    ax.get_xaxis().set_visible(False)\r\n",
        "    ax.get_yaxis().set_visible(False)"
      ],
      "execution_count": 26,
      "outputs": [
        {
          "output_type": "stream",
          "text": [
            "(28, 28)\n"
          ],
          "name": "stdout"
        },
        {
          "output_type": "display_data",
          "data": {
            "image/png": "[encoded data removed]",
            "text/plain": [
              "<Figure size 1800x288 with 10 Axes>"
            ]
          },
          "metadata": {
            "tags": [],
            "needs_background": "light"
          }
        },
        {
          "output_type": "display_data",
          "data": {
            "text/plain": [
              "<Figure size 432x288 with 0 Axes>"
            ]
          },
          "metadata": {
            "tags": []
          }
        }
      ]
    },
    {
      "cell_type": "code",
      "metadata": {
        "id": "EJkxR757_2b0"
      },
      "source": [
        "# Read out the decoded images by reconstruction path\r\n",
        "def show_image(reconsPath):\r\n",
        "  Image = mpimg.imread(reconsPath)\r\n",
        "  plt.imshow(Image) \r\n",
        "  plt.axis('off') \r\n",
        "  plt.show()"
      ],
      "execution_count": 27,
      "outputs": []
    },
    {
      "cell_type": "code",
      "metadata": {
        "colab": {
          "base_uri": "https://localhost:8080/",
          "height": 248
        },
        "id": "EBL74ES7ABif",
        "outputId": "e244390c-b991-40fc-cdbe-74cca1087f9a"
      },
      "source": [
        "reconsPath = './simple_autoencoder/image_10.png'\r\n",
        "show_image(reconsPath)"
      ],
      "execution_count": 29,
      "outputs": [
        {
          "output_type": "display_data",
          "data": {
            "image/png": "[encoded data removed]",
            "text/plain": [
              "<Figure size 432x288 with 1 Axes>"
            ]
          },
          "metadata": {
            "tags": [],
            "needs_background": "light"
          }
        }
      ]
    },
    {
      "cell_type": "markdown",
      "metadata": {
        "id": "LUWcF4gpAGUl"
      },
      "source": [
        "# Task 2\r\n",
        "## Variational Autoencoder\r\n",
        "1) Implement a VAE(30%)"
      ]
    },
    {
      "cell_type": "code",
      "metadata": {
        "id": "gdsYKpvgvDOq"
      },
      "source": [
        "device = torch.device('cuda' if torch.cuda.is_available() else 'cpu')"
      ],
      "execution_count": 30,
      "outputs": []
    },
    {
      "cell_type": "code",
      "metadata": {
        "id": "ZEswHD2zvIsR"
      },
      "source": [
        "sample_dir = 'samples'\r\n",
        "if not os.path.exists(sample_dir):\r\n",
        "    os.makedirs(sample_dir)"
      ],
      "execution_count": 31,
      "outputs": []
    },
    {
      "cell_type": "code",
      "metadata": {
        "id": "CYJ2Jm81vL-3"
      },
      "source": [
        "# Hyper-parameters\r\n",
        "image_size = 784\r\n",
        "h_dim = 400\r\n",
        "z_dim = 20\r\n",
        "num_epochs = 15\r\n",
        "batch_size = 128\r\n",
        "learning_rate = 1e-3"
      ],
      "execution_count": 32,
      "outputs": []
    },
    {
      "cell_type": "code",
      "metadata": {
        "id": "AdJObYu6vOnn",
        "colab": {
          "base_uri": "https://localhost:8080/",
          "height": 352,
          "referenced_widgets": [
            "7d49957f84a444bc899fe846c7610fc7",
            "4813edfabd1f468fbbf362872dc99f83",
            "8843acbc61a74b23989e1def23e86170",
            "ce5be4ae7678435e9aa73aba59f73bfe",
            "4e7e0971ea1841788294ac4a097b46dc",
            "31a0aeb42dfe4458ba519e3bb8c67d6e",
            "1eb4741712524e9e83d10ae9a716e201",
            "5ee4f334496c40a688fa42af9a10b6f5",
            "90fe02f397ab4aa797b008788ca72b04",
            "7c9cf8fb415e4a39a5a8078230c18810",
            "56e687ea924041bcae1320e1df63458b",
            "866eb69c3a0f4da7b0b1e6d11ab07b3e",
            "05e85adc2c7e4ad6bfc3d080f2615b2e",
            "e29d7e128d5f42e8b54c42154e62bb39",
            "546fc5fe4f0a4ad68640fe6037f4a678",
            "39f522b394b84576a4cd2767f4a06561",
            "6ef81a50f6824af9b25947d2b9075689",
            "c63b20351e9f491b9e00e090d6c55d4d",
            "a611c73fbf3d43eeaf0ba937c576d45d",
            "d566c0b82f334e9ea3d69575d3038a4b",
            "a310d6611e3f4c6791642c934f4bb046",
            "26d265a08aee41f4b9c8f583348327b2",
            "bcfb9004c3d946c2a3dfd2ee5826d50b",
            "9be240dc042b42fd8ff3697f24d1213a",
            "c3ad977723a9493ba63604f846dffbf6",
            "9d3419018dd24f88a87464a1da40ecf7",
            "c6b1ac935e9449f595058a7295a00403",
            "ca114bd86e554dbbafcfb4b926aa3d5d",
            "f403eae3c6c0414faa40af859abd203d",
            "02fbe7b153fe4224a63010a9fbad61e1",
            "0a8dc7c2e6aa4e7cbd62afce20080092",
            "956f294857f14708a5f4ef0c13c1cbc6"
          ]
        },
        "outputId": "c6aec84d-2b36-414f-ebc3-00297a4a2e24"
      },
      "source": [
        "dataset = torchvision.datasets.MNIST(root='../../../data/minist',\r\n",
        "                      train=True,\r\n",
        "                      transform=transforms.ToTensor(),\r\n",
        "                      download=True\r\n",
        "                    )\r\n",
        "\r\n",
        "data_loader = torch.utils.data.DataLoader(dataset=dataset,\r\n",
        "                        batch_size=batch_size, \r\n",
        "                        shuffle=True)"
      ],
      "execution_count": 33,
      "outputs": [
        {
          "output_type": "stream",
          "text": [
            "Downloading http://yann.lecun.com/exdb/mnist/train-images-idx3-ubyte.gz to ../../../data/minist/MNIST/raw/train-images-idx3-ubyte.gz\n"
          ],
          "name": "stdout"
        },
        {
          "output_type": "display_data",
          "data": {
            "application/vnd.jupyter.widget-view+json": {
              "model_id": "7d49957f84a444bc899fe846c7610fc7",
              "version_minor": 0,
              "version_major": 2
            },
            "text/plain": [
              "HBox(children=(FloatProgress(value=1.0, bar_style='info', max=1.0), HTML(value='')))"
            ]
          },
          "metadata": {
            "tags": []
          }
        },
        {
          "output_type": "stream",
          "text": [
            "Extracting ../../../data/minist/MNIST/raw/train-images-idx3-ubyte.gz to ../../../data/minist/MNIST/raw\n",
            "Downloading http://yann.lecun.com/exdb/mnist/train-labels-idx1-ubyte.gz to ../../../data/minist/MNIST/raw/train-labels-idx1-ubyte.gz\n"
          ],
          "name": "stdout"
        },
        {
          "output_type": "display_data",
          "data": {
            "application/vnd.jupyter.widget-view+json": {
              "model_id": "90fe02f397ab4aa797b008788ca72b04",
              "version_minor": 0,
              "version_major": 2
            },
            "text/plain": [
              "HBox(children=(FloatProgress(value=1.0, bar_style='info', max=1.0), HTML(value='')))"
            ]
          },
          "metadata": {
            "tags": []
          }
        },
        {
          "output_type": "stream",
          "text": [
            "Extracting ../../../data/minist/MNIST/raw/train-labels-idx1-ubyte.gz to ../../../data/minist/MNIST/raw\n",
            "Downloading http://yann.lecun.com/exdb/mnist/t10k-images-idx3-ubyte.gz to ../../../data/minist/MNIST/raw/t10k-images-idx3-ubyte.gz\n",
            "\n",
            "\n"
          ],
          "name": "stdout"
        },
        {
          "output_type": "display_data",
          "data": {
            "application/vnd.jupyter.widget-view+json": {
              "model_id": "6ef81a50f6824af9b25947d2b9075689",
              "version_minor": 0,
              "version_major": 2
            },
            "text/plain": [
              "HBox(children=(FloatProgress(value=1.0, bar_style='info', max=1.0), HTML(value='')))"
            ]
          },
          "metadata": {
            "tags": []
          }
        },
        {
          "output_type": "stream",
          "text": [
            "Extracting ../../../data/minist/MNIST/raw/t10k-images-idx3-ubyte.gz to ../../../data/minist/MNIST/raw\n",
            "Downloading http://yann.lecun.com/exdb/mnist/t10k-labels-idx1-ubyte.gz to ../../../data/minist/MNIST/raw/t10k-labels-idx1-ubyte.gz\n"
          ],
          "name": "stdout"
        },
        {
          "output_type": "display_data",
          "data": {
            "application/vnd.jupyter.widget-view+json": {
              "model_id": "c3ad977723a9493ba63604f846dffbf6",
              "version_minor": 0,
              "version_major": 2
            },
            "text/plain": [
              "HBox(children=(FloatProgress(value=1.0, bar_style='info', max=1.0), HTML(value='')))"
            ]
          },
          "metadata": {
            "tags": []
          }
        },
        {
          "output_type": "stream",
          "text": [
            "Extracting ../../../data/minist/MNIST/raw/t10k-labels-idx1-ubyte.gz to ../../../data/minist/MNIST/raw\n",
            "Processing...\n",
            "Done!\n"
          ],
          "name": "stdout"
        }
      ]
    },
    {
      "cell_type": "code",
      "metadata": {
        "id": "t0qasn6hvR6N"
      },
      "source": [
        "# VAE model\r\n",
        "class VAE(nn.Module):\r\n",
        "  def __init__(self, image_size=784, h_dim=400, z_dim=20):\r\n",
        "      super(VAE, self).__init__()\r\n",
        "      self.fc1 = nn.Linear(image_size, h_dim)\r\n",
        "      self.fc2 = nn.Linear(h_dim, z_dim) \r\n",
        "      self.fc3 = nn.Linear(h_dim, z_dim) \r\n",
        "      self.fc4 = nn.Linear(z_dim, h_dim)\r\n",
        "      self.fc5 = nn.Linear(h_dim, image_size)\r\n",
        "      \r\n",
        "  def encode(self, x):\r\n",
        "      h = F.relu(self.fc1(x))\r\n",
        "      return self.fc2(h), self.fc3(h)\r\n",
        "  \r\n",
        "  def reparameterize(self, mu, log_var):\r\n",
        "      std = torch.exp(log_var/2)\r\n",
        "      eps = torch.randn_like(std)\r\n",
        "      return mu + eps * std\r\n",
        "\r\n",
        "  def decode(self, z):\r\n",
        "      h = F.relu(self.fc4(z))\r\n",
        "      return F.sigmoid(self.fc5(h))\r\n",
        "  \r\n",
        "  # encode -> decode\r\n",
        "  def forward(self, x):\r\n",
        "      mu, log_var = self.encode(x)\r\n",
        "      z = self.reparameterize(mu, log_var)\r\n",
        "      x_reconst = self.decode(z)\r\n",
        "      return x_reconst, mu, log_var\r\n"
      ],
      "execution_count": 43,
      "outputs": []
    },
    {
      "cell_type": "code",
      "metadata": {
        "id": "u24XdWUwvUs9"
      },
      "source": [
        "model2 = VAE().to(device)"
      ],
      "execution_count": 44,
      "outputs": []
    },
    {
      "cell_type": "code",
      "metadata": {
        "id": "fMG3uIFTvYw9"
      },
      "source": [
        "optimizer = torch.optim.Adam(model2.parameters(), lr=learning_rate)"
      ],
      "execution_count": 45,
      "outputs": []
    },
    {
      "cell_type": "code",
      "metadata": {
        "colab": {
          "base_uri": "https://localhost:8080/"
        },
        "id": "73bQcgoSvbma",
        "outputId": "6fb281a7-5990-4381-d997-3c18f2362628"
      },
      "source": [
        "counter = 0\r\n",
        "for epoch in range(num_epochs):\r\n",
        "    for i, (x, _) in enumerate(data_loader):\r\n",
        "        # Get samples and forward \r\n",
        "        x = x.to(device).view(-1, image_size)\r\n",
        "        x_reconst, mu, log_var = model2(x)\r\n",
        "        \r\n",
        "        # Conpute the reconstruction loss and KL div\r\n",
        "        reconst_loss = F.binary_cross_entropy(x_reconst, x, size_average=False)\r\n",
        "        kl_div = - 0.5 * torch.sum(1 + log_var - mu.pow(2) - log_var.exp())\r\n",
        "        \r\n",
        "        # back propagation\r\n",
        "        loss = reconst_loss + kl_div\r\n",
        "        optimizer.zero_grad()\r\n",
        "        loss.backward()\r\n",
        "        optimizer.step()\r\n",
        "        \r\n",
        "        if (i+1) % 100 == 0:\r\n",
        "            print (\"Epoch[{}/{}], Step [{}/{}], Reconst Loss: {:.4f}, KL Div: {:.4f}\" \r\n",
        "                   .format(epoch+1, num_epochs, i+1, len(data_loader), reconst_loss.item(), kl_div.item()))\r\n",
        "    \r\n",
        "    with torch.no_grad():\r\n",
        "        # randomly generate images\r\n",
        "        z = torch.randn(batch_size, z_dim).to(device)\r\n",
        "        \r\n",
        "        out = model2.decode(z).view(-1, 1, 28, 28)\r\n",
        "        save_image(out, os.path.join(sample_dir, 'sampled-{}.png'.format(epoch+1)))\r\n",
        "\r\n",
        "        if counter == 0:\r\n",
        "          temp_in = z \r\n",
        "          temp_out = out\r\n",
        "\r\n",
        "        # reconstructed images\r\n",
        "        out, _, _ = model2(x)\r\n",
        "\r\n",
        "        # set the dimension = 3\r\n",
        "        x_concat = torch.cat([x.view(-1, 1, 28, 28), out.view(-1, 1, 28, 28)], dim=2)\r\n",
        "        save_image(x_concat, os.path.join(sample_dir, 'reconst-{}.png'.format(epoch+1)))\r\n"
      ],
      "execution_count": 50,
      "outputs": [
        {
          "output_type": "stream",
          "text": [
            "/usr/local/lib/python3.6/dist-packages/torch/nn/functional.py:1639: UserWarning: nn.functional.sigmoid is deprecated. Use torch.sigmoid instead.\n",
            "  warnings.warn(\"nn.functional.sigmoid is deprecated. Use torch.sigmoid instead.\")\n",
            "/usr/local/lib/python3.6/dist-packages/torch/nn/_reduction.py:44: UserWarning: size_average and reduce args will be deprecated, please use reduction='sum' instead.\n",
            "  warnings.warn(warning.format(ret))\n"
          ],
          "name": "stderr"
        },
        {
          "output_type": "stream",
          "text": [
            "Epoch[1/15], Step [100/469], Reconst Loss: 10260.4463, KL Div: 3216.1079\n",
            "Epoch[1/15], Step [200/469], Reconst Loss: 10183.5469, KL Div: 3248.0093\n",
            "Epoch[1/15], Step [300/469], Reconst Loss: 9963.1875, KL Div: 3252.3743\n",
            "Epoch[1/15], Step [400/469], Reconst Loss: 9718.8672, KL Div: 3232.8677\n",
            "Epoch[2/15], Step [100/469], Reconst Loss: 9901.6445, KL Div: 3269.0347\n",
            "Epoch[2/15], Step [200/469], Reconst Loss: 9818.0537, KL Div: 3144.8909\n",
            "Epoch[2/15], Step [300/469], Reconst Loss: 10412.1738, KL Div: 3186.6802\n",
            "Epoch[2/15], Step [400/469], Reconst Loss: 10706.5332, KL Div: 3273.3027\n",
            "Epoch[3/15], Step [100/469], Reconst Loss: 10094.3496, KL Div: 3355.4585\n",
            "Epoch[3/15], Step [200/469], Reconst Loss: 10353.2051, KL Div: 3392.3052\n",
            "Epoch[3/15], Step [300/469], Reconst Loss: 9956.9180, KL Div: 3246.3469\n",
            "Epoch[3/15], Step [400/469], Reconst Loss: 9950.7686, KL Div: 3281.8840\n",
            "Epoch[4/15], Step [100/469], Reconst Loss: 9708.5186, KL Div: 3218.2878\n",
            "Epoch[4/15], Step [200/469], Reconst Loss: 10043.2715, KL Div: 3194.5391\n",
            "Epoch[4/15], Step [300/469], Reconst Loss: 9653.9443, KL Div: 3211.0979\n",
            "Epoch[4/15], Step [400/469], Reconst Loss: 10425.5234, KL Div: 3305.7671\n",
            "Epoch[5/15], Step [100/469], Reconst Loss: 10001.8496, KL Div: 3274.1838\n",
            "Epoch[5/15], Step [200/469], Reconst Loss: 9960.4512, KL Div: 3295.3018\n",
            "Epoch[5/15], Step [300/469], Reconst Loss: 9661.4238, KL Div: 3224.5410\n",
            "Epoch[5/15], Step [400/469], Reconst Loss: 9882.1777, KL Div: 3171.7283\n",
            "Epoch[6/15], Step [100/469], Reconst Loss: 10217.8633, KL Div: 3257.6443\n",
            "Epoch[6/15], Step [200/469], Reconst Loss: 9462.3242, KL Div: 3157.2905\n",
            "Epoch[6/15], Step [300/469], Reconst Loss: 9577.8613, KL Div: 3218.0654\n",
            "Epoch[6/15], Step [400/469], Reconst Loss: 10192.1055, KL Div: 3287.2139\n",
            "Epoch[7/15], Step [100/469], Reconst Loss: 10061.4746, KL Div: 3167.0889\n",
            "Epoch[7/15], Step [200/469], Reconst Loss: 9969.9795, KL Div: 3393.9797\n",
            "Epoch[7/15], Step [300/469], Reconst Loss: 9589.0254, KL Div: 3100.1709\n",
            "Epoch[7/15], Step [400/469], Reconst Loss: 10066.0332, KL Div: 3307.9824\n",
            "Epoch[8/15], Step [100/469], Reconst Loss: 9572.9121, KL Div: 3114.0303\n",
            "Epoch[8/15], Step [200/469], Reconst Loss: 10333.6260, KL Div: 3292.4641\n",
            "Epoch[8/15], Step [300/469], Reconst Loss: 10028.6367, KL Div: 3207.6465\n",
            "Epoch[8/15], Step [400/469], Reconst Loss: 9740.0273, KL Div: 3219.4207\n",
            "Epoch[9/15], Step [100/469], Reconst Loss: 10222.6338, KL Div: 3273.6074\n",
            "Epoch[9/15], Step [200/469], Reconst Loss: 9840.8574, KL Div: 3254.2896\n",
            "Epoch[9/15], Step [300/469], Reconst Loss: 10223.6875, KL Div: 3264.5393\n",
            "Epoch[9/15], Step [400/469], Reconst Loss: 9887.3818, KL Div: 3179.4053\n",
            "Epoch[10/15], Step [100/469], Reconst Loss: 9590.7891, KL Div: 3182.5015\n",
            "Epoch[10/15], Step [200/469], Reconst Loss: 9593.5234, KL Div: 3161.0305\n",
            "Epoch[10/15], Step [300/469], Reconst Loss: 9991.7910, KL Div: 3327.2029\n",
            "Epoch[10/15], Step [400/469], Reconst Loss: 9870.5137, KL Div: 3192.2163\n",
            "Epoch[11/15], Step [100/469], Reconst Loss: 9608.9160, KL Div: 3186.2852\n",
            "Epoch[11/15], Step [200/469], Reconst Loss: 9906.9346, KL Div: 3218.0713\n",
            "Epoch[11/15], Step [300/469], Reconst Loss: 9738.5410, KL Div: 3166.6809\n",
            "Epoch[11/15], Step [400/469], Reconst Loss: 10081.9863, KL Div: 3203.1575\n",
            "Epoch[12/15], Step [100/469], Reconst Loss: 10152.9023, KL Div: 3112.5488\n",
            "Epoch[12/15], Step [200/469], Reconst Loss: 10098.2734, KL Div: 3287.0298\n",
            "Epoch[12/15], Step [300/469], Reconst Loss: 9971.7842, KL Div: 3263.7554\n",
            "Epoch[12/15], Step [400/469], Reconst Loss: 9677.7129, KL Div: 3259.8467\n",
            "Epoch[13/15], Step [100/469], Reconst Loss: 9281.0195, KL Div: 3162.3469\n",
            "Epoch[13/15], Step [200/469], Reconst Loss: 10069.1270, KL Div: 3312.5786\n",
            "Epoch[13/15], Step [300/469], Reconst Loss: 10250.7236, KL Div: 3210.5469\n",
            "Epoch[13/15], Step [400/469], Reconst Loss: 9631.0410, KL Div: 3198.8481\n",
            "Epoch[14/15], Step [100/469], Reconst Loss: 9873.5977, KL Div: 3269.2832\n",
            "Epoch[14/15], Step [200/469], Reconst Loss: 10058.2549, KL Div: 3343.0940\n",
            "Epoch[14/15], Step [300/469], Reconst Loss: 9866.2930, KL Div: 3183.0100\n",
            "Epoch[14/15], Step [400/469], Reconst Loss: 9700.7207, KL Div: 3256.4207\n",
            "Epoch[15/15], Step [100/469], Reconst Loss: 9674.2881, KL Div: 3286.5337\n",
            "Epoch[15/15], Step [200/469], Reconst Loss: 9767.6309, KL Div: 3248.6016\n",
            "Epoch[15/15], Step [300/469], Reconst Loss: 10192.0645, KL Div: 3319.2627\n",
            "Epoch[15/15], Step [400/469], Reconst Loss: 9828.5049, KL Div: 3273.9758\n"
          ],
          "name": "stdout"
        }
      ]
    },
    {
      "cell_type": "markdown",
      "metadata": {
        "id": "Xn3zKOYj3JKn"
      },
      "source": [
        "## a) Plot digits(30%)"
      ]
    },
    {
      "cell_type": "code",
      "metadata": {
        "colab": {
          "base_uri": "https://localhost:8080/",
          "height": 248
        },
        "id": "dqwQgtzivifC",
        "outputId": "133ab942-bbc6-4a5e-fe1d-0fe1e742feba"
      },
      "source": [
        "reconsPath = './samples/reconst-15.png'\r\n",
        "show_image(reconsPath)"
      ],
      "execution_count": 48,
      "outputs": [
        {
          "output_type": "display_data",
          "data": {
            "image/png": "[encoded data removed]",
            "text/plain": [
              "<Figure size 432x288 with 1 Axes>"
            ]
          },
          "metadata": {
            "tags": [],
            "needs_background": "light"
          }
        }
      ]
    },
    {
      "cell_type": "markdown",
      "metadata": {
        "id": "gBlUMr-14yfO"
      },
      "source": [
        "## b) Plot the variance vector of the decoder for a single input as image(25%)"
      ]
    },
    {
      "cell_type": "code",
      "metadata": {
        "id": "7prhDZ1HAXuS",
        "colab": {
          "base_uri": "https://localhost:8080/",
          "height": 282
        },
        "outputId": "9741b5ea-6581-4a2a-8f8b-6c0fa41d1840"
      },
      "source": [
        "# print(temp_in)\r\n",
        "# print(temp_out)\r\n",
        "\r\n",
        "variance = np.var(temp_out.cpu().detach().numpy(),axis=0)\r\n",
        "plt.imshow(variance[0])"
      ],
      "execution_count": 68,
      "outputs": [
        {
          "output_type": "execute_result",
          "data": {
            "text/plain": [
              "<matplotlib.image.AxesImage at 0x7fabe036c4a8>"
            ]
          },
          "metadata": {
            "tags": []
          },
          "execution_count": 68
        },
        {
          "output_type": "display_data",
          "data": {
            "image/png": "[encoded data removed]",
            "text/plain": [
              "<Figure size 432x288 with 1 Axes>"
            ]
          },
          "metadata": {
            "tags": [],
            "needs_background": "light"
          }
        }
      ]
    }
  ]
}