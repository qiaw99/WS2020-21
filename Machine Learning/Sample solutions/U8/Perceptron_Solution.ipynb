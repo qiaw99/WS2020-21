{
  "nbformat": 4,
  "nbformat_minor": 0,
  "metadata": {
    "kernelspec": {
      "display_name": "Python 3",
      "language": "python",
      "name": "python3"
    },
    "language_info": {
      "codemirror_mode": {
        "name": "ipython",
        "version": 3
      },
      "file_extension": ".py",
      "mimetype": "text/x-python",
      "name": "python",
      "nbconvert_exporter": "python",
      "pygments_lexer": "ipython3",
      "version": "3.6.5"
    },
    "colab": {
      "name": "Perceptron_Solution.ipynb",
      "provenance": [],
      "toc_visible": true
    }
  },
  "cells": [
    {
      "cell_type": "markdown",
      "metadata": {
        "id": "y3cWwlbatGdm"
      },
      "source": [
        "# Mustererkennung/Machine Learning - Assignment 8\n",
        "\n"
      ]
    },
    {
      "cell_type": "code",
      "metadata": {
        "ExecuteTime": {
          "end_time": "2018-12-11T12:46:51.443420Z",
          "start_time": "2018-12-11T12:46:50.570749Z"
        },
        "id": "luPsF5SptGdt"
      },
      "source": [
        "import numpy as np\n",
        "import pandas as pd\n",
        "from sklearn.model_selection import train_test_split\n",
        "from sklearn.utils import shuffle\n",
        "import matplotlib.pyplot as plt\n",
        "import seaborn as sns\n",
        "%matplotlib inline"
      ],
      "execution_count": null,
      "outputs": []
    },
    {
      "cell_type": "code",
      "metadata": {
        "ExecuteTime": {
          "end_time": "2018-12-11T12:46:51.501147Z",
          "start_time": "2018-12-11T12:46:51.445163Z"
        },
        "colab": {
          "base_uri": "https://localhost:8080/",
          "height": 206
        },
        "id": "CpeeFeXKtGdu",
        "outputId": "cf860553-0831-4606-e3ca-81959af4ee2c"
      },
      "source": [
        "class Classifier:\n",
        "    \n",
        "    def accuracy(self, labels, predictions):\n",
        "        return np.mean(labels == predictions)\n",
        "\n",
        "\n",
        "data = pd.read_csv(\"/content/drive/MyDrive/ML_Class_2020/Perceptron/iris.data\", header=None)\n",
        "data.head(n=5)"
      ],
      "execution_count": null,
      "outputs": [
        {
          "output_type": "execute_result",
          "data": {
            "text/html": [
              "<div>\n",
              "<style scoped>\n",
              "    .dataframe tbody tr th:only-of-type {\n",
              "        vertical-align: middle;\n",
              "    }\n",
              "\n",
              "    .dataframe tbody tr th {\n",
              "        vertical-align: top;\n",
              "    }\n",
              "\n",
              "    .dataframe thead th {\n",
              "        text-align: right;\n",
              "    }\n",
              "</style>\n",
              "<table border=\"1\" class=\"dataframe\">\n",
              "  <thead>\n",
              "    <tr style=\"text-align: right;\">\n",
              "      <th></th>\n",
              "      <th>0</th>\n",
              "      <th>1</th>\n",
              "      <th>2</th>\n",
              "      <th>3</th>\n",
              "      <th>4</th>\n",
              "    </tr>\n",
              "  </thead>\n",
              "  <tbody>\n",
              "    <tr>\n",
              "      <th>0</th>\n",
              "      <td>5.1</td>\n",
              "      <td>3.5</td>\n",
              "      <td>1.4</td>\n",
              "      <td>0.2</td>\n",
              "      <td>Iris-setosa</td>\n",
              "    </tr>\n",
              "    <tr>\n",
              "      <th>1</th>\n",
              "      <td>4.9</td>\n",
              "      <td>3.0</td>\n",
              "      <td>1.4</td>\n",
              "      <td>0.2</td>\n",
              "      <td>Iris-setosa</td>\n",
              "    </tr>\n",
              "    <tr>\n",
              "      <th>2</th>\n",
              "      <td>4.7</td>\n",
              "      <td>3.2</td>\n",
              "      <td>1.3</td>\n",
              "      <td>0.2</td>\n",
              "      <td>Iris-setosa</td>\n",
              "    </tr>\n",
              "    <tr>\n",
              "      <th>3</th>\n",
              "      <td>4.6</td>\n",
              "      <td>3.1</td>\n",
              "      <td>1.5</td>\n",
              "      <td>0.2</td>\n",
              "      <td>Iris-setosa</td>\n",
              "    </tr>\n",
              "    <tr>\n",
              "      <th>4</th>\n",
              "      <td>5.0</td>\n",
              "      <td>3.6</td>\n",
              "      <td>1.4</td>\n",
              "      <td>0.2</td>\n",
              "      <td>Iris-setosa</td>\n",
              "    </tr>\n",
              "  </tbody>\n",
              "</table>\n",
              "</div>"
            ],
            "text/plain": [
              "     0    1    2    3            4\n",
              "0  5.1  3.5  1.4  0.2  Iris-setosa\n",
              "1  4.9  3.0  1.4  0.2  Iris-setosa\n",
              "2  4.7  3.2  1.3  0.2  Iris-setosa\n",
              "3  4.6  3.1  1.5  0.2  Iris-setosa\n",
              "4  5.0  3.6  1.4  0.2  Iris-setosa"
            ]
          },
          "metadata": {
            "tags": []
          },
          "execution_count": 5
        }
      ]
    },
    {
      "cell_type": "markdown",
      "metadata": {
        "id": "8WaByN8YtGdx"
      },
      "source": [
        "#### Splitting the data into training/test and according to their class memberships"
      ]
    },
    {
      "cell_type": "code",
      "metadata": {
        "ExecuteTime": {
          "end_time": "2018-12-11T12:46:51.517929Z",
          "start_time": "2018-12-11T12:46:51.502925Z"
        },
        "id": "E2-w2GzqtGdy"
      },
      "source": [
        "X_train, X_test, y_train, y_test = train_test_split(data[list(range(4))], data[4], test_size=0.2, random_state=None, stratify=data[4])\n",
        "\n",
        "X_train_setosa = X_train[y_train=='Iris-setosa'].to_numpy()\n",
        "X_train_versicolor = X_train[y_train=='Iris-versicolor'].to_numpy()\n",
        "X_train_virginica = X_train[y_train=='Iris-virginica'].to_numpy()\n",
        "\n",
        "X_test_setosa_v_v = X_test.to_numpy()\n",
        "y_test_setosa_v_v = (y_test == 'Iris-setosa').astype(int).to_numpy()\n",
        "\n",
        "X_test_versicolor_virginica = X_test[y_test!='Iris-setosa'].to_numpy()\n",
        "y_test_versicolor_virginica = (y_test[y_test!='Iris-setosa'] == 'Iris-versicolor').astype(int).to_numpy()"
      ],
      "execution_count": null,
      "outputs": []
    },
    {
      "cell_type": "code",
      "metadata": {
        "ExecuteTime": {
          "end_time": "2018-12-11T12:46:51.524835Z",
          "start_time": "2018-12-11T12:46:51.519942Z"
        },
        "colab": {
          "base_uri": "https://localhost:8080/"
        },
        "id": "7F2-6le-tGdz",
        "outputId": "e1feb7a6-3390-4897-f80d-b56576c82b3c"
      },
      "source": [
        "y_test_setosa_v_v"
      ],
      "execution_count": null,
      "outputs": [
        {
          "output_type": "execute_result",
          "data": {
            "text/plain": [
              "array([1, 0, 0, 1, 1, 1, 0, 1, 0, 0, 0, 0, 0, 0, 0, 0, 0, 0, 0, 0, 0, 0,\n",
              "       1, 0, 1, 1, 0, 1, 0, 1])"
            ]
          },
          "metadata": {
            "tags": []
          },
          "execution_count": 9
        }
      ]
    },
    {
      "cell_type": "code",
      "metadata": {
        "ExecuteTime": {
          "end_time": "2018-12-11T12:46:51.537554Z",
          "start_time": "2018-12-11T12:46:51.528045Z"
        },
        "id": "8I8J7QTHtGd0"
      },
      "source": [
        "class Perceptron(Classifier):\n",
        "    \n",
        "    def fit(self, P, N, max_iterations=None):\n",
        "        self.prepare_fit(P, N)\n",
        "        if max_iterations is None:\n",
        "            while True:\n",
        "                self._update_weights()\n",
        "                if self.accuracy(self.y, (self.X @ self.w) > 0.5) == 1:\n",
        "                    return self.w\n",
        "        else:\n",
        "            for _ in range(max_iterations):\n",
        "                self._update_weights()\n",
        "                if self.accuracy(self.y, (self.X @ self.w) > 0.5) == 1:\n",
        "                    return self.w\n",
        "        return self.w\n",
        "    \n",
        "    def _update_weights(self):\n",
        "        for x, y in zip(self.X, self.y):\n",
        "            if y == 1 and x @ self.w <= 0.5:\n",
        "                self.w += x\n",
        "            elif y == 0 and x @ self.w > 0.5:\n",
        "                self.w -= x\n",
        "\n",
        "    def prepare_fit(self, P, N):\n",
        "        X_ordered = np.concatenate((np.ones((len(P)+len(N), 1)), np.concatenate((P, N))), axis=1)\n",
        "        y_ordered = np.concatenate((np.ones(len(P)), np.zeros(len(N))))\n",
        "        self.X, self.y = shuffle(X_ordered, y_ordered)\n",
        "        self.w = np.zeros(self.X.shape[1])\n",
        "    \n",
        "    def predict(self, X_test):\n",
        "        ones = np.ones((len(X_test), 1))\n",
        "        X_test = np.concatenate((ones, X_test), axis=1)\n",
        "        predictions = X_test @ self.w\n",
        "        return (predictions > 0.5).astype(int)"
      ],
      "execution_count": null,
      "outputs": []
    },
    {
      "cell_type": "code",
      "metadata": {
        "ExecuteTime": {
          "end_time": "2018-12-11T12:46:51.547098Z",
          "start_time": "2018-12-11T12:46:51.542419Z"
        },
        "id": "tpKf8s6CtGd1"
      },
      "source": [
        "model = Perceptron()"
      ],
      "execution_count": null,
      "outputs": []
    },
    {
      "cell_type": "code",
      "metadata": {
        "ExecuteTime": {
          "end_time": "2018-12-11T12:46:51.557186Z",
          "start_time": "2018-12-11T12:46:51.549796Z"
        },
        "colab": {
          "base_uri": "https://localhost:8080/"
        },
        "id": "BQh8cR4StGd2",
        "outputId": "8b9c0eaf-1164-4e47-d936-afa7522ee38c"
      },
      "source": [
        "model.fit(X_train_setosa, np.concatenate((X_train_versicolor, X_train_virginica)), max_iterations=None)\n",
        "predictions_setosa_v_v = model.predict(X_test_setosa_v_v)\n",
        "model.accuracy(y_test_setosa_v_v, predictions_setosa_v_v)"
      ],
      "execution_count": null,
      "outputs": [
        {
          "output_type": "execute_result",
          "data": {
            "text/plain": [
              "1.0"
            ]
          },
          "metadata": {
            "tags": []
          },
          "execution_count": 41
        }
      ]
    },
    {
      "cell_type": "code",
      "metadata": {
        "ExecuteTime": {
          "end_time": "2018-12-11T12:47:00.675688Z",
          "start_time": "2018-12-11T12:47:00.526520Z"
        },
        "colab": {
          "base_uri": "https://localhost:8080/"
        },
        "id": "jcZiq3gYtGd3",
        "outputId": "8b4b2ac7-7dfa-4c48-c2da-55f56d14649f"
      },
      "source": [
        "model.fit(X_train_versicolor, X_train_virginica, max_iterations=1000)\n",
        "predictions_v_v = model.predict(X_test_versicolor_virginica)\n",
        "model.accuracy(y_test_versicolor_virginica, predictions_v_v)"
      ],
      "execution_count": null,
      "outputs": [
        {
          "output_type": "execute_result",
          "data": {
            "text/plain": [
              "0.85"
            ]
          },
          "metadata": {
            "tags": []
          },
          "execution_count": 37
        }
      ]
    },
    {
      "cell_type": "code",
      "metadata": {
        "colab": {
          "base_uri": "https://localhost:8080/",
          "height": 317
        },
        "id": "zdxdkfgHwSw0",
        "outputId": "737ade1e-5f59-4930-a836-82ec617d208f"
      },
      "source": [
        "X = np.concatenate((X_train_versicolor, X_train_virginica))\n",
        "print(X_train_versicolor.shape)\n",
        "mean_X = X.mean(axis = 0)\n",
        "print(X.shape)\n",
        "X = X - mean_X\n",
        "labels = np.concatenate((np.zeros(len(X_train_versicolor)),np.ones(len(X_train_virginica))))\n",
        "plt.scatter(X[:,2],X[:,3], c = labels)\n",
        "plt.show\n",
        "\n",
        "model.fit(X_train_versicolor - mean_X, X_train_virginica  - mean_X, max_iterations=1000)\n",
        "predictions_v_v = model.predict(X_test_versicolor_virginica - mean_X)\n",
        "model.accuracy(y_test_versicolor_virginica, predictions_v_v)"
      ],
      "execution_count": null,
      "outputs": [
        {
          "output_type": "stream",
          "text": [
            "(40, 4)\n",
            "(80, 4)\n"
          ],
          "name": "stdout"
        },
        {
          "output_type": "execute_result",
          "data": {
            "text/plain": [
              "0.9"
            ]
          },
          "metadata": {
            "tags": []
          },
          "execution_count": 59
        },
        {
          "output_type": "display_data",
          "data": {
            "image/png": "[encoded data removed]",
            "text/plain": [
              "<Figure size 432x288 with 1 Axes>"
            ]
          },
          "metadata": {
            "tags": [],
            "needs_background": "light"
          }
        }
      ]
    }
  ]
}