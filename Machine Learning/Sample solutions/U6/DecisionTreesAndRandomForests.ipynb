{
  "nbformat": 4,
  "nbformat_minor": 0,
  "metadata": {
    "kernelspec": {
      "display_name": "Python 3",
      "language": "python",
      "name": "python3"
    },
    "language_info": {
      "codemirror_mode": {
        "name": "ipython",
        "version": 3
      },
      "file_extension": ".py",
      "mimetype": "text/x-python",
      "name": "python",
      "nbconvert_exporter": "python",
      "pygments_lexer": "ipython3",
      "version": "3.6.5"
    },
    "colab": {
      "name": "DecisionTreesAndRandomForests.ipynb",
      "provenance": []
    }
  },
  "cells": [
    {
      "cell_type": "markdown",
      "metadata": {
        "id": "Zo9GWxKgTN1h"
      },
      "source": [
        "# Mustererkennung/Machine Learning - Assignment 6 Solution\n",
        "\n"
      ]
    },
    {
      "cell_type": "code",
      "metadata": {
        "ExecuteTime": {
          "end_time": "2018-11-29T11:28:48.347720Z",
          "start_time": "2018-11-29T11:28:47.572823Z"
        },
        "id": "V7XaSv5wTN1i"
      },
      "source": [
        "import numpy as np\n",
        "import pandas as pd\n",
        "from matplotlib import pyplot as plt\n",
        "from sklearn.model_selection import train_test_split\n",
        "from math import floor\n",
        "from collections import Counter"
      ],
      "execution_count": 145,
      "outputs": []
    },
    {
      "cell_type": "code",
      "metadata": {
        "ExecuteTime": {
          "end_time": "2018-11-29T11:28:48.406520Z",
          "start_time": "2018-11-29T11:28:48.349530Z"
        },
        "colab": {
          "base_uri": "https://localhost:8080/"
        },
        "id": "sT2Hk2k-TN1i",
        "outputId": "22ff61ac-8c3e-421a-93e8-ad7176b43388"
      },
      "source": [
        "data = np.array(pd.read_csv('/content/drive/MyDrive/ML_Class_2020/Bagging Trees/spambase.data', header=None))\n",
        "\n",
        "X = data[:,:-1] # features\n",
        "y = data[:,-1] # Last column is label\n",
        "\n",
        "X_train, X_test, y_train, y_test = train_test_split(X, y, random_state=0, shuffle=True, stratify=y)\n",
        "\n",
        "print(X_train[0])"
      ],
      "execution_count": 10,
      "outputs": [
        {
          "output_type": "stream",
          "text": [
            "[ 0.     0.     0.     0.     6.25   0.     3.12   0.     0.     0.\n",
            "  0.     3.12   0.     0.     0.     0.     0.     0.     6.25   0.\n",
            "  0.     0.     0.     0.     0.     0.     0.     0.     0.     0.\n",
            "  0.     0.     0.     0.     0.     0.     0.     0.     0.     0.\n",
            "  0.     0.     0.     0.     0.     0.     0.     0.     0.     0.\n",
            "  0.     0.     0.     0.     9.428 60.    66.   ]\n"
          ],
          "name": "stdout"
        }
      ]
    },
    {
      "cell_type": "code",
      "metadata": {
        "ExecuteTime": {
          "end_time": "2018-11-29T11:28:48.414587Z",
          "start_time": "2018-11-29T11:28:48.408590Z"
        },
        "id": "l5sZfw_zTN1i"
      },
      "source": [
        "# In this approach we binarize the data\n",
        "# This makes the code simpler but the classification a little worse (probably) \n",
        "# So all of our split point z are 0.5 and it only matters at which feature we split\n",
        "\n",
        "\n",
        "# We take the averages of the positive class and the negative class of the training set\n",
        "averages_pos = np.mean(X_train[y_train==1], axis=0)\n",
        "averages_neg = np.mean(X_train[y_train==0], axis=0)\n",
        "\n",
        "average_of_averages = (averages_pos + averages_neg)/2 \n",
        "# Due to class imbalance, this is not the same as just taking the average of the full training set\n",
        "# Define 1 for above average and 0 for below average\n",
        "\n",
        "X_train_avg = X_train > average_of_averages\n",
        "X_test_avg = X_test > average_of_averages\n",
        "\n",
        "class Classifier:\n",
        "  \n",
        "    def accuracy(self, labels, predictions):\n",
        "        return np.mean(labels == predictions)\n",
        "    \n",
        "    def confusion_matrix(self, labels, predictions):\n",
        "        size = len(set(labels))\n",
        "        matrix = np.zeros((size, size))\n",
        "        for correct, predicted in zip(labels.astype(int), predictions.astype(int)):\n",
        "            matrix[correct][predicted] += 1\n",
        "        return matrix\n"
      ],
      "execution_count": 32,
      "outputs": []
    },
    {
      "cell_type": "code",
      "metadata": {
        "ExecuteTime": {
          "end_time": "2018-11-29T11:28:48.430198Z",
          "start_time": "2018-11-29T11:28:48.419121Z"
        },
        "id": "ApYbAMuNTN1i"
      },
      "source": [
        "class DecisionTree(Classifier):\n",
        "\n",
        "    def fit(self, X, y, max_depth):\n",
        "        self.num_features = len(X.T)\n",
        "\n",
        "        # keep track of loss reduction for each feature\n",
        "        self.feature_importance = np.zeros(self.num_features)  \n",
        "        self.size_tree = 2**max_depth - 1\n",
        "        self.size_array_for_tree = 2**(max_depth+1) - 1\n",
        "\n",
        "        # feature_tree consist of the node_id's (along which dimension we split; this will always be z = 0.5)\n",
        "        self.feature_tree = np.ones((self.size_array_for_tree), dtype=int) * (-1) \n",
        "\n",
        "        # prob_tree labels the data point when we reach a leaf tree\n",
        "        # if probability >0.5 in that leaf we assign 1 and the other way around\n",
        "        self.prob_tree = np.ones((self.size_array_for_tree*2)) * (-1)\n",
        "        self.split_nodes(X, y, 0, 0)\n",
        "        return self.feature_tree, self.prob_tree\n",
        "    \n",
        "    def predict(self, feature_tree, prob_tree, X):\n",
        "        predictions = []\n",
        "        for x in X:\n",
        "            array_position = 0\n",
        "            node = feature_tree[array_position]\n",
        "            while feature_tree[self.left(array_position)] != -1 or feature_tree[self.right(array_position)] != -1:\n",
        "                if x[node]:\n",
        "                    array_position = self.right(array_position)\n",
        "                else:\n",
        "                    array_position = self.left(array_position)\n",
        "                prediction = prob_tree[array_position]\n",
        "                node = feature_tree[array_position]\n",
        "            predictions += [prediction]\n",
        "        return predictions\n",
        "    \n",
        "    def split_nodes(self, X, y, entropy, node_id):\n",
        "        \n",
        "        if node_id >= self.size_tree: # Abort if parent node is a leaf\n",
        "            return\n",
        "        if len(X) == 1:\n",
        "            return\n",
        "        expected_entropies = np.ones(self.num_features) * np.inf # initialize to inf to find true min later\n",
        "        probs_left = np.empty(self.num_features)\n",
        "        probs_right = np.empty(self.num_features)\n",
        "        \n",
        "        for i, feature in enumerate(X.T):\n",
        "            if np.sum(X[feature]) == 0 or np.sum(X[np.invert(feature)]) == 0:\n",
        "                # If one child would get all data points, we don't want to split that way\n",
        "                continue \n",
        "            e_l, e_r, prob_left, prob_right = self.weighted_children_entropy(feature, y)\n",
        "            e_h = e_l + e_r\n",
        "            expected_entropies[i] = e_h\n",
        "            probs_left[i] = prob_left\n",
        "            probs_right[i] = prob_right\n",
        "            \n",
        "        min_e_h = np.argmin(expected_entropies)\n",
        "        \n",
        "        # assign importance to feature that was chosen\n",
        "        if not np.isinf(np.min(expected_entropies)):\n",
        "            self.feature_importance[min_e_h] += np.abs(entropy - np.min(expected_entropies))\n",
        "\n",
        "        right = X[:,min_e_h]\n",
        "        left = np.invert(right)\n",
        "        \n",
        "\n",
        "\n",
        "        self.feature_tree[node_id] = min_e_h\n",
        "        self.prob_tree[self.left(node_id)] = probs_left[min_e_h]\n",
        "        self.prob_tree[self.right(node_id)] = probs_right[min_e_h]\n",
        "        \n",
        "        if len(y[right]) == 0 or len(y[left]) == 0:\n",
        "            return\n",
        "        # recursive calls\n",
        "        self.split_nodes(X[left], y[left], e_l, self.left(node_id))\n",
        "        self.split_nodes(X[right], y[right], e_r, self.right(node_id))\n",
        "        \n",
        "    def entropy(self, p):\n",
        "        if p == 1.0 or p == 0.0: \n",
        "            # The entropy is zero if one event is certain\n",
        "            return 0\n",
        "        return - (p * np.log(p) + (1-p) * np.log((1-p)))\n",
        "    \n",
        "    def weighted_children_entropy(self, feature, y):\n",
        "        num_datapoints = len(feature)\n",
        "        weight_right =  (feature == True).sum()/num_datapoints\n",
        "        weight_left = 1 - weight_right\n",
        "        p = np.sum(y[feature])/len(y[feature]) \n",
        "        q = np.sum(y[np.invert(feature)])/len(y[np.invert(feature)])\n",
        "        entropy_right = weight_right * self.entropy(p)\n",
        "        entropy_left = weight_left * self.entropy(q)\n",
        "        return entropy_right, entropy_left, q, p\n",
        "    \n",
        "    def left(self, node_id):\n",
        "        return 2 * node_id + 1\n",
        "    \n",
        "    def right(self, node_id):\n",
        "        return 2 * node_id + 2\n",
        "    \n",
        "    def parent(self, node_id):\n",
        "        return floor((node_id - 1)/2)"
      ],
      "execution_count": 178,
      "outputs": []
    },
    {
      "cell_type": "code",
      "metadata": {
        "ExecuteTime": {
          "end_time": "2018-11-29T11:28:49.036054Z",
          "start_time": "2018-11-29T11:28:49.028396Z"
        },
        "id": "KC2JKVHUTN1i"
      },
      "source": [
        "decision_tree = DecisionTree()"
      ],
      "execution_count": 179,
      "outputs": []
    },
    {
      "cell_type": "code",
      "metadata": {
        "ExecuteTime": {
          "end_time": "2018-11-29T11:29:15.240136Z",
          "start_time": "2018-11-29T11:29:14.947907Z"
        },
        "scrolled": false,
        "id": "i1I-0-SkTN1i"
      },
      "source": [
        "feature_tree, prob_tree = decision_tree.fit(X_train_avg, y_train, 7)"
      ],
      "execution_count": 180,
      "outputs": []
    },
    {
      "cell_type": "code",
      "metadata": {
        "ExecuteTime": {
          "end_time": "2018-11-29T11:29:15.775171Z",
          "start_time": "2018-11-29T11:29:15.728002Z"
        },
        "id": "W-hjpHHuTN1i"
      },
      "source": [
        "predictions = decision_tree.predict(feature_tree, prob_tree, X_test_avg)\n",
        "estimates = (np.array(predictions) > 0.5)"
      ],
      "execution_count": 181,
      "outputs": []
    },
    {
      "cell_type": "code",
      "metadata": {
        "ExecuteTime": {
          "end_time": "2018-11-29T11:29:16.010062Z",
          "start_time": "2018-11-29T11:29:15.995646Z"
        },
        "id": "aTg7Who_TN1i",
        "colab": {
          "base_uri": "https://localhost:8080/"
        },
        "outputId": "1ff4c846-9400-4422-f46d-e0d5bd59822e"
      },
      "source": [
        "decision_tree.accuracy(y_test, estimates)"
      ],
      "execution_count": 182,
      "outputs": [
        {
          "output_type": "execute_result",
          "data": {
            "text/plain": [
              "0.9052997393570807"
            ]
          },
          "metadata": {
            "tags": []
          },
          "execution_count": 182
        }
      ]
    },
    {
      "cell_type": "code",
      "metadata": {
        "ExecuteTime": {
          "end_time": "2018-11-28T14:29:14.768681Z",
          "start_time": "2018-11-28T14:29:14.758714Z"
        },
        "id": "NT1klb8TTN1k",
        "colab": {
          "base_uri": "https://localhost:8080/"
        },
        "outputId": "d16ca6c4-8af7-4143-fca5-4a4e8d25c444"
      },
      "source": [
        "decision_tree.confusion_matrix(y_test, estimates).astype(int)"
      ],
      "execution_count": 183,
      "outputs": [
        {
          "output_type": "execute_result",
          "data": {
            "text/plain": [
              "array([[668,  29],\n",
              "       [ 80, 374]])"
            ]
          },
          "metadata": {
            "tags": []
          },
          "execution_count": 183
        }
      ]
    },
    {
      "cell_type": "markdown",
      "metadata": {
        "id": "2PF7KLjUOKYd"
      },
      "source": [
        "Assume that classifying a genuine E-Mail as spam is ten times worse than classifying spam as genuine. How would you change the design of your decision tree?\n",
        "\n",
        "\n",
        "When you check the splits multiply the loss on the side that would classify 0 times 10:\n",
        "\n",
        "In this case:"
      ]
    },
    {
      "cell_type": "code",
      "metadata": {
        "id": "tiuBrry0PcR3"
      },
      "source": [
        "#Pseudo code:\n",
        "\"\"\"\n",
        "\n",
        "if p > 0.5:\n",
        "  entropy_left *= 10\n",
        "if q > 0.5:\n",
        "  entropy_right *= 10\n",
        "\n",
        "\"\"\""
      ],
      "execution_count": null,
      "outputs": []
    },
    {
      "cell_type": "markdown",
      "metadata": {
        "id": "MWhRqKBwJDYC"
      },
      "source": [
        "**Feature Importance:**"
      ]
    },
    {
      "cell_type": "code",
      "metadata": {
        "colab": {
          "base_uri": "https://localhost:8080/",
          "height": 265
        },
        "id": "-3pVphLaJBpF",
        "outputId": "57997dce-bba6-40ae-a236-1aed32590fe2"
      },
      "source": [
        "importance_array = np.argsort(-decision_tree.feature_importance)\n",
        "fig, ax = plt.subplots()\n",
        "ax.bar(range(5), decision_tree.feature_importance[importance_array[:5]])\n",
        "ax.set_xticklabels(np.append(0,importance_array[:5]))\n",
        "plt.show()"
      ],
      "execution_count": 184,
      "outputs": [
        {
          "output_type": "display_data",
          "data": {
            "image/png": "[encoded data removed]",
            "text/plain": [
              "<Figure size 432x288 with 1 Axes>"
            ]
          },
          "metadata": {
            "tags": [],
            "needs_background": "light"
          }
        }
      ]
    },
    {
      "cell_type": "code",
      "metadata": {
        "ExecuteTime": {
          "end_time": "2018-11-28T14:29:14.781004Z",
          "start_time": "2018-11-28T14:29:14.771015Z"
        },
        "id": "r1Tu2dewTN1l"
      },
      "source": [
        "class RandomForest(Classifier):\n",
        "    \n",
        "    def __init__(self):\n",
        "        decision_tree = DecisionTree()\n",
        "    \n",
        "    def fit(self, X, y, num_trees, num_samples_per_tree, depth):\n",
        "        self.X = X\n",
        "        self.y = y\n",
        "        num_samples = len(X)\n",
        "        num_features = len(X.T)\n",
        "        feature_trees = []\n",
        "        prob_trees = []\n",
        "        features = []\n",
        "        for i in range(num_trees):\n",
        "            random_samples = np.random.randint(0, high=num_samples, size=num_samples_per_tree)\n",
        "            X = self.X[random_samples]\n",
        "            y = self.y[random_samples]\n",
        "            random_features = np.random.randint(0, high=num_features, size=depth*2)\n",
        "            X = X[:,random_features]\n",
        "            feature_tree, prob_tree = decision_tree.fit(X, y, depth)\n",
        "            feature_trees += [feature_tree]\n",
        "            prob_trees += [prob_tree]\n",
        "            features += [random_features]\n",
        "        return feature_trees, prob_trees, features\n",
        "    \n",
        "    def predict(self, feature_trees, prob_trees, X):\n",
        "        predictions = np.empty((len(feature_trees), len(X)))\n",
        "        for i, (feature_tree, prob_tree, feature_set) in enumerate(zip(feature_trees, prob_trees, features)):\n",
        "            predictions[i] = decision_tree.predict(feature_tree, prob_tree, X[:,feature_set])\n",
        "        averaged_predictions = np.mean(predictions, axis=0)\n",
        "        return averaged_predictions"
      ],
      "execution_count": 185,
      "outputs": []
    },
    {
      "cell_type": "code",
      "metadata": {
        "ExecuteTime": {
          "end_time": "2018-11-28T14:29:17.345169Z",
          "start_time": "2018-11-28T14:29:14.782736Z"
        },
        "id": "dv8rC8tqTN1l"
      },
      "source": [
        "random_forest = RandomForest()\n",
        "feature_trees, prob_trees, features = random_forest.fit(X_train_avg, y_train, 50, 1000, 8)"
      ],
      "execution_count": 186,
      "outputs": []
    },
    {
      "cell_type": "code",
      "metadata": {
        "ExecuteTime": {
          "end_time": "2018-11-28T14:29:17.816404Z",
          "start_time": "2018-11-28T14:29:17.351254Z"
        },
        "id": "4-O0FPhcTN1l"
      },
      "source": [
        "predictions = random_forest.predict(feature_trees, prob_trees, X_test_avg)\n",
        "estimates = (np.array(predictions) > 0.5)"
      ],
      "execution_count": 187,
      "outputs": []
    },
    {
      "cell_type": "code",
      "metadata": {
        "ExecuteTime": {
          "end_time": "2018-11-28T14:29:17.824949Z",
          "start_time": "2018-11-28T14:29:17.818344Z"
        },
        "id": "WPaYB2i1TN1l",
        "colab": {
          "base_uri": "https://localhost:8080/"
        },
        "outputId": "9ee7b287-91fb-42e5-c45a-b1fe7781d1a2"
      },
      "source": [
        "random_forest.accuracy(y_test, estimates)"
      ],
      "execution_count": 188,
      "outputs": [
        {
          "output_type": "execute_result",
          "data": {
            "text/plain": [
              "0.9270199826238054"
            ]
          },
          "metadata": {
            "tags": []
          },
          "execution_count": 188
        }
      ]
    }
  ]
}