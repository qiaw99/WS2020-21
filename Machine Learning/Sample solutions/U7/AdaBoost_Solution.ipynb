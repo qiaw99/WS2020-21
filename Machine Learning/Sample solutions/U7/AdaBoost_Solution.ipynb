{
  "nbformat": 4,
  "nbformat_minor": 0,
  "metadata": {
    "kernelspec": {
      "display_name": "Python 3",
      "language": "python",
      "name": "python3"
    },
    "language_info": {
      "codemirror_mode": {
        "name": "ipython",
        "version": 3
      },
      "file_extension": ".py",
      "mimetype": "text/x-python",
      "name": "python",
      "nbconvert_exporter": "python",
      "pygments_lexer": "ipython3",
      "version": "3.6.5"
    },
    "toc": {
      "nav_menu": {},
      "number_sections": false,
      "sideBar": true,
      "skip_h1_title": false,
      "toc_cell": false,
      "toc_position": {
        "height": "1011px",
        "left": "0px",
        "right": "1678px",
        "top": "106px",
        "width": "242px"
      },
      "toc_section_display": "block",
      "toc_window_display": true
    },
    "colab": {
      "name": "AdaBoost.ipynb",
      "provenance": [],
      "toc_visible": true
    }
  },
  "cells": [
    {
      "cell_type": "markdown",
      "metadata": {
        "id": "JnkW011xP6jG"
      },
      "source": [
        "# Mustererkennung/Machine Learning - Assignment 7 Solution\n"
      ]
    },
    {
      "cell_type": "code",
      "metadata": {
        "ExecuteTime": {
          "end_time": "2018-12-11T10:44:07.924678Z",
          "start_time": "2018-12-11T10:44:06.493465Z"
        },
        "id": "gG92S4NnP6jQ"
      },
      "source": [
        "import pandas as pd\n",
        "import numpy as np\n",
        "import matplotlib.pyplot as plt\n",
        "from sklearn.model_selection import train_test_split\n",
        "%matplotlib inline"
      ],
      "execution_count": 7,
      "outputs": []
    },
    {
      "cell_type": "code",
      "metadata": {
        "id": "XRGI832aQJO1"
      },
      "source": [
        "class Classifier:\n",
        "  \n",
        "    def accuracy(self, labels, predictions):\n",
        "        return np.mean(labels == predictions)\n",
        "    \n",
        "    def confusion_matrix(self, labels, predictions):\n",
        "        size = len(set(labels))\n",
        "        matrix = np.zeros((size, size))\n",
        "        for correct, predicted in zip(labels.astype(int), predictions.astype(int)):\n",
        "            matrix[correct][predicted] += 1\n",
        "        return matrix"
      ],
      "execution_count": 8,
      "outputs": []
    },
    {
      "cell_type": "code",
      "metadata": {
        "ExecuteTime": {
          "end_time": "2018-12-11T10:44:08.017503Z",
          "start_time": "2018-12-11T10:44:07.926873Z"
        },
        "id": "mzqcwxi9P6jR"
      },
      "source": [
        "data = np.array(pd.read_csv('/content/drive/MyDrive/ML_Class_2020/Bagging Trees/spambase.data', header=None))\n",
        "\n",
        "X = data[:,:-1] # features\n",
        "y = data[:,-1] # Last column is label\n",
        "y[y == 0] = -1 # We need the negative labels to be -1 for AdaBoost\n",
        "\n",
        "X_train, X_test, y_train, y_test = train_test_split(X, y, random_state=0, shuffle=True, stratify=y)"
      ],
      "execution_count": 9,
      "outputs": []
    },
    {
      "cell_type": "code",
      "metadata": {
        "ExecuteTime": {
          "end_time": "2018-12-11T10:44:08.022797Z",
          "start_time": "2018-12-11T10:44:08.019084Z"
        },
        "id": "Y7iBUGMRP6jS"
      },
      "source": [
        "class DecisionStump(Classifier):\n",
        "    def __init__(self, feature, label, alternative_label, threshold=0):\n",
        "        self.feature = feature\n",
        "        self.label = label\n",
        "        self.alternative_label = alternative_label\n",
        "        self.threshold = threshold\n",
        "        \n",
        "    def predict(self, X):\n",
        "        return np.where(X[:, self.feature] >= self.threshold, self.label, self.alternative_label)"
      ],
      "execution_count": 10,
      "outputs": []
    },
    {
      "cell_type": "code",
      "metadata": {
        "ExecuteTime": {
          "end_time": "2018-12-11T10:44:08.030905Z",
          "start_time": "2018-12-11T10:44:08.024818Z"
        },
        "scrolled": true,
        "id": "jXeKAjg1P6jS"
      },
      "source": [
        "def create_classifier_pool(X):\n",
        "    classifier_pool = []\n",
        "\n",
        "    for feature in range(X.shape[1]):\n",
        "        for threshold in sorted(set(X[:, feature])):\n",
        "            classifier_pool += [\n",
        "                DecisionStump(feature, 1, -1, threshold),\n",
        "                DecisionStump(feature, -1, 1, threshold)\n",
        "            ]\n",
        "            \n",
        "    return classifier_pool"
      ],
      "execution_count": 11,
      "outputs": []
    },
    {
      "cell_type": "markdown",
      "metadata": {
        "id": "z0h3fDpmP6jU"
      },
      "source": [
        "## AdaBoost"
      ]
    },
    {
      "cell_type": "code",
      "metadata": {
        "ExecuteTime": {
          "end_time": "2018-12-11T10:44:08.041595Z",
          "start_time": "2018-12-11T10:44:08.032829Z"
        },
        "id": "_FxZHnJbP6jW"
      },
      "source": [
        "class AdaBoost(Classifier):\n",
        "    def __init__(self, classifier_pool, num_classifiers):\n",
        "        self.classifier_pool = list(classifier_pool)\n",
        "        self.num_classifiers = num_classifiers\n",
        "        \n",
        "        self.classifiers = []\n",
        "        self.weights = []\n",
        "        \n",
        "    def fit(self, X, y):\n",
        "        scouting_matrix = np.array([clf.predict(X) != y for clf in self.classifier_pool])\n",
        "        w = np.ones(len(y)) # Initially, all weights are the same\n",
        "        \n",
        "        for _ in range(self.num_classifiers):\n",
        "            # Step 1\n",
        "            errors = scouting_matrix@w\n",
        "            best_remaining = errors.argmin()\n",
        "            \n",
        "            # Step 2\n",
        "            We = errors[best_remaining]\n",
        "            W = w.sum()\n",
        "            em = (W - We) / W\n",
        "                        \n",
        "            self.classifiers += [self.classifier_pool[best_remaining]]\n",
        "            self.weights += [0.5 * -np.log((1 - em) / em)] # alphas\n",
        "            \n",
        "            # Step 3\n",
        "            w = w * np.exp(np.where(scouting_matrix[best_remaining], 1, -1) * self.weights[-1])\n",
        "            scouting_matrix = np.delete(scouting_matrix, best_remaining, axis=0)\n",
        "            del self.classifier_pool[best_remaining]\n",
        "        \n",
        "    def predict(self, X):\n",
        "        preds = np.array([cl.predict(X) for cl in self.classifiers])\n",
        "        weighted_preds = np.dot(self.weights, preds)\n",
        "        return np.where(weighted_preds >= 0, 1, -1)"
      ],
      "execution_count": 12,
      "outputs": []
    },
    {
      "cell_type": "code",
      "metadata": {
        "ExecuteTime": {
          "end_time": "2018-12-11T10:45:24.904013Z",
          "start_time": "2018-12-11T10:45:24.750959Z"
        },
        "scrolled": true,
        "colab": {
          "base_uri": "https://localhost:8080/"
        },
        "id": "ir9FN9_aP6jX",
        "outputId": "fe2a456b-16bf-4711-c8b9-e45b5ac5005a"
      },
      "source": [
        "classifier_pool = create_classifier_pool(X_train)\n",
        "print (\"Created %d weak learners\" % len(classifier_pool))"
      ],
      "execution_count": 13,
      "outputs": [
        {
          "output_type": "stream",
          "text": [
            "Created 26586 weak learners\n"
          ],
          "name": "stdout"
        }
      ]
    },
    {
      "cell_type": "code",
      "metadata": {
        "ExecuteTime": {
          "end_time": "2018-12-11T10:48:14.846894Z",
          "start_time": "2018-12-11T10:46:58.626275Z"
        },
        "id": "d1ZkjL9PP6jb"
      },
      "source": [
        "model = AdaBoost(classifier_pool, num_classifiers=100)\n",
        "model.fit(X_train, y_train)\n",
        "predictions = model.predict(X_test)"
      ],
      "execution_count": 14,
      "outputs": []
    },
    {
      "cell_type": "code",
      "metadata": {
        "ExecuteTime": {
          "end_time": "2018-12-11T10:46:52.486814Z",
          "start_time": "2018-12-11T10:46:52.482110Z"
        },
        "colab": {
          "base_uri": "https://localhost:8080/"
        },
        "id": "_1TlXDETP6jb",
        "outputId": "bd7ed2a8-9987-4e6e-e8ba-7fe01e457f93"
      },
      "source": [
        "model.accuracy(y_test, predictions)"
      ],
      "execution_count": 15,
      "outputs": [
        {
          "output_type": "execute_result",
          "data": {
            "text/plain": [
              "0.9496090356211989"
            ]
          },
          "metadata": {
            "tags": []
          },
          "execution_count": 15
        }
      ]
    },
    {
      "cell_type": "code",
      "metadata": {
        "id": "liU-E2WDP6j2"
      },
      "source": [
        ""
      ],
      "execution_count": 15,
      "outputs": []
    }
  ]
}