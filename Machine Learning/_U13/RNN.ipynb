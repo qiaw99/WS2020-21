{
  "nbformat": 4,
  "nbformat_minor": 0,
  "metadata": {
    "colab": {
      "name": "RNN.ipynb",
      "provenance": [],
      "collapsed_sections": []
    },
    "kernelspec": {
      "name": "python3",
      "display_name": "Python 3"
    },
    "accelerator": "GPU"
  },
  "cells": [
    {
      "cell_type": "markdown",
      "metadata": {
        "id": "6ZdvSQOoiI14"
      },
      "source": [
        "# Text Generation with RNNs"
      ]
    },
    {
      "cell_type": "code",
      "metadata": {
        "colab": {
          "base_uri": "https://localhost:8080/"
        },
        "id": "gNInpv8pbBll",
        "outputId": "cf939b52-032d-411b-8c77-513a0cbcaf53"
      },
      "source": [
        "from google.colab import drive\r\n",
        "drive.mount('/content/drive')"
      ],
      "execution_count": 1,
      "outputs": [
        {
          "output_type": "stream",
          "text": [
            "Drive already mounted at /content/drive; to attempt to forcibly remount, call drive.mount(\"/content/drive\", force_remount=True).\n"
          ],
          "name": "stdout"
        }
      ]
    },
    {
      "cell_type": "markdown",
      "metadata": {
        "id": "2bNHI95GiN86"
      },
      "source": [
        "### 1 Dataset\r\n",
        "Define the path of the file, you want to read and train the model on\r\n"
      ]
    },
    {
      "cell_type": "markdown",
      "metadata": {
        "id": "eN7ESM2VkPTg"
      },
      "source": [
        "We have attach the text file in zip, if you also use colab, then you should upload the text file as well. "
      ]
    },
    {
      "cell_type": "code",
      "metadata": {
        "id": "twi2Oez5bWEL"
      },
      "source": [
        "with open('/content/drive/MyDrive/Colab Notebooks/poetry.txt', 'r') as f:\r\n",
        "    poetry_corpus = f.read()"
      ],
      "execution_count": 2,
      "outputs": []
    },
    {
      "cell_type": "markdown",
      "metadata": {
        "id": "dO5cz2f1iedK"
      },
      "source": [
        "\r\n",
        "#### Inspect the dataset\r\n",
        "Take a look at the first 250 characters in text"
      ]
    },
    {
      "cell_type": "code",
      "metadata": {
        "colab": {
          "base_uri": "https://localhost:8080/",
          "height": 35
        },
        "id": "haXm0ExqbZ7C",
        "outputId": "67240d45-7e4c-4dda-cf50-208345f95c0a"
      },
      "source": [
        "poetry_corpus[:100]"
      ],
      "execution_count": 3,
      "outputs": [
        {
          "output_type": "execute_result",
          "data": {
            "application/vnd.google.colaboratory.intrinsic+json": {
              "type": "string"
            },
            "text/plain": [
              "'寒随穷律变，春逐鸟声开。\\n初风飘带柳，晚雪间花梅。\\n碧林青旧竹，绿沼翠新苔。\\n芝田初雁去，绮树巧莺来。\\n晚霞聊自怡，初晴弥可喜。\\n日晃百花色，风动千林翠。\\n池鱼跃不同，园鸟声还异。\\n寄言博通者，知予物'"
            ]
          },
          "metadata": {
            "tags": []
          },
          "execution_count": 3
        }
      ]
    },
    {
      "cell_type": "code",
      "metadata": {
        "colab": {
          "base_uri": "https://localhost:8080/"
        },
        "id": "zleJg_iHbcqj",
        "outputId": "33eed075-d477-4541-f691-306080034a42"
      },
      "source": [
        "len(poetry_corpus)"
      ],
      "execution_count": 4,
      "outputs": [
        {
          "output_type": "execute_result",
          "data": {
            "text/plain": [
              "942681"
            ]
          },
          "metadata": {
            "tags": []
          },
          "execution_count": 4
        }
      ]
    },
    {
      "cell_type": "markdown",
      "metadata": {
        "id": "5co_hqgHmass"
      },
      "source": [
        "Replace/remove all chinese punctuations\r\n"
      ]
    },
    {
      "cell_type": "code",
      "metadata": {
        "colab": {
          "base_uri": "https://localhost:8080/",
          "height": 35
        },
        "id": "BWDOoImtberM",
        "outputId": "e2dc5638-a694-456b-dee5-82eb42fa0c35"
      },
      "source": [
        "poetry_corpus = poetry_corpus.replace('\\n', ' ').replace('\\r', ' ').replace('，', ' ').replace('。', ' ')\r\n",
        "poetry_corpus[:100]"
      ],
      "execution_count": 5,
      "outputs": [
        {
          "output_type": "execute_result",
          "data": {
            "application/vnd.google.colaboratory.intrinsic+json": {
              "type": "string"
            },
            "text/plain": [
              "'寒随穷律变 春逐鸟声开  初风飘带柳 晚雪间花梅  碧林青旧竹 绿沼翠新苔  芝田初雁去 绮树巧莺来  晚霞聊自怡 初晴弥可喜  日晃百花色 风动千林翠  池鱼跃不同 园鸟声还异  寄言博通者 知予物'"
            ]
          },
          "metadata": {
            "tags": []
          },
          "execution_count": 5
        }
      ]
    },
    {
      "cell_type": "markdown",
      "metadata": {
        "id": "VgXob0iCimQD"
      },
      "source": [
        "### 2 Process the dataset for the learning task\r\n",
        "The task that we want our model to achieve is: given a character, or a sequence of characters, what is the most probable next character?\r\n",
        "\r\n",
        "To achieve this, we will input a sequence of characters to the model, and train the model to predict the output, that is, the following character at each time step. RNNs maintain an internal state that depends on previously seen elements, so information about all characters seen up until a given moment will be taken into account in generating the prediction.\r\n",
        "\r\n",
        "#### Vectorize the text\r\n",
        "Before we begin training our RNN model, we'll need to create a numerical representation of our text-based dataset. To do this, we'll generate two lookup tables: one that maps characters to numbers, and a second that maps numbers back to characters. Recall that we just identified the unique characters present in the text."
      ]
    },
    {
      "cell_type": "code",
      "metadata": {
        "id": "N79FV1bfbh5A"
      },
      "source": [
        "import numpy as np\r\n",
        "\r\n",
        "class TextConverter(object):\r\n",
        "    def __init__(self, text_path, max_vocab=5000):\r\n",
        "        \"\"\"\r\n",
        "\r\n",
        "        Args:\r\n",
        "            text_path: text position\r\n",
        "            max_vocab: max. # text\r\n",
        "        \"\"\"\r\n",
        "\r\n",
        "        with open(text_path, 'r') as f:\r\n",
        "            text = f.read()\r\n",
        "        text = text.replace('\\n', ' ').replace('\\r', ' ').replace('，', ' ').replace('。', ' ')\r\n",
        "        \r\n",
        "        # remove the repeated char\r\n",
        "        vocab = set(text)\r\n",
        "\r\n",
        "        # if # char more than max_vocab, remove those whose freqs are less.\r\n",
        "        vocab_count = {}\r\n",
        "\r\n",
        "        # compute freq\r\n",
        "        for word in vocab:\r\n",
        "            vocab_count[word] = 0\r\n",
        "        for word in text:\r\n",
        "            vocab_count[word] += 1\r\n",
        "        vocab_count_list = []\r\n",
        "        for word in vocab_count:\r\n",
        "            vocab_count_list.append((word, vocab_count[word]))\r\n",
        "        vocab_count_list.sort(key=lambda x: x[1], reverse=True)\r\n",
        "\r\n",
        "        if len(vocab_count_list) > max_vocab:\r\n",
        "            vocab_count_list = vocab_count_list[:max_vocab]\r\n",
        "        vocab = [x[0] for x in vocab_count_list]\r\n",
        "        self.vocab = vocab\r\n",
        "\r\n",
        "        self.word_to_int_table = {c: i for i, c in enumerate(self.vocab)}\r\n",
        "        self.int_to_word_table = dict(enumerate(self.vocab))\r\n",
        "\r\n",
        "    @property\r\n",
        "    def vocab_size(self):\r\n",
        "        return len(self.vocab) + 1\r\n",
        "\r\n",
        "    def word_to_int(self, word):\r\n",
        "        if word in self.word_to_int_table:\r\n",
        "            return self.word_to_int_table[word]\r\n",
        "        else:\r\n",
        "            return len(self.vocab)\r\n",
        "\r\n",
        "    def int_to_word(self, index):\r\n",
        "        if index == len(self.vocab):\r\n",
        "            return '<unk>'\r\n",
        "        elif index < len(self.vocab):\r\n",
        "            return self.int_to_word_table[index]\r\n",
        "        else:\r\n",
        "            raise Exception('Unknown index!')\r\n",
        "\r\n",
        "    def text_to_arr(self, text):\r\n",
        "        arr = []\r\n",
        "        for word in text:\r\n",
        "            arr.append(self.word_to_int(word))\r\n",
        "        return np.array(arr)\r\n",
        "\r\n",
        "    def arr_to_text(self, arr):\r\n",
        "        words = []\r\n",
        "        for index in arr:\r\n",
        "            words.append(self.int_to_word(index))\r\n",
        "        return \"\".join(words)"
      ],
      "execution_count": 6,
      "outputs": []
    },
    {
      "cell_type": "code",
      "metadata": {
        "id": "nnwkxXHZbkNh"
      },
      "source": [
        "convert = TextConverter('/content/drive/MyDrive/Colab Notebooks/poetry.txt', max_vocab=10000)"
      ],
      "execution_count": 7,
      "outputs": []
    },
    {
      "cell_type": "markdown",
      "metadata": {
        "id": "gva4ecM7iuBf"
      },
      "source": [
        "\r\n",
        "This gives us an integer representation for each character. Observe that the unique characters (i.e., our vocabulary) in the text are mapped as indices from 0 to len(unique). Let's take a peek at this numerical representation of our dataset:"
      ]
    },
    {
      "cell_type": "code",
      "metadata": {
        "colab": {
          "base_uri": "https://localhost:8080/"
        },
        "id": "p9-_SMa6boPL",
        "outputId": "908e7b11-ad89-4508-e9b5-f664cfc7907c"
      },
      "source": [
        "# orginal char(poetry)\r\n",
        "txt_char = poetry_corpus[:11]\r\n",
        "print(txt_char)\r\n",
        "\r\n",
        "# convert to integers\r\n",
        "# We can also look at how the first part of the text is mapped to an integer representation\r\n",
        "print(convert.text_to_arr(txt_char))"
      ],
      "execution_count": 8,
      "outputs": [
        {
          "output_type": "stream",
          "text": [
            "寒随穷律变 春逐鸟声开\n",
            "[ 40 166 358 933 565   0  10 367 108  63  78]\n"
          ],
          "name": "stdout"
        }
      ]
    },
    {
      "cell_type": "code",
      "metadata": {
        "colab": {
          "base_uri": "https://localhost:8080/"
        },
        "id": "N54nDRTrbqtj",
        "outputId": "a2455455-0f0e-48b4-d375-9ede9898bc38"
      },
      "source": [
        "n_step = 20\r\n",
        "\r\n",
        "# length of the given sequence\r\n",
        "num_seq = int(len(poetry_corpus) / n_step)\r\n",
        "\r\n",
        "text = poetry_corpus[:num_seq*n_step]\r\n",
        "\r\n",
        "print(num_seq)"
      ],
      "execution_count": 9,
      "outputs": [
        {
          "output_type": "stream",
          "text": [
            "47134\n"
          ],
          "name": "stdout"
        }
      ]
    },
    {
      "cell_type": "markdown",
      "metadata": {
        "id": "mXRt5pypjBfL"
      },
      "source": [
        "#### Defining a method to encode one hot labels"
      ]
    },
    {
      "cell_type": "code",
      "metadata": {
        "id": "Yzs1mXcsi-WD"
      },
      "source": [
        "def one_hot_encode(arr, n_labels):\r\n",
        "    # Initialize the the encoded array\r\n",
        "    one_hot = np.zeros((np.multiply(*arr.shape), n_labels), dtype=np.float32)\r\n",
        "\r\n",
        "    # Fill the appropriate elements with ones\r\n",
        "    one_hot[np.arange(one_hot.shape[0]), arr.flatten()] = 1.\r\n",
        "\r\n",
        "    # Finally reshape it to get back to the original array\r\n",
        "    one_hot = one_hot.reshape((*arr.shape, n_labels))\r\n",
        "\r\n",
        "    return one_hot"
      ],
      "execution_count": 10,
      "outputs": []
    },
    {
      "cell_type": "markdown",
      "metadata": {
        "id": "8Sa3BjHFjJjv"
      },
      "source": [
        "#### Defining a method to make mini-batches for training"
      ]
    },
    {
      "cell_type": "code",
      "metadata": {
        "id": "BLmDJgPUjFXq"
      },
      "source": [
        "def get_batches(arr, batch_size, seq_length):\r\n",
        "    '''Create a generator that returns batches of size\r\n",
        "       batch_size x seq_length from arr.\r\n",
        "\r\n",
        "       Arguments\r\n",
        "       ---------\r\n",
        "       arr: Array you want to make batches from\r\n",
        "       batch_size: Batch size, the number of sequences per batch\r\n",
        "       seq_length: Number of encoded chars in a sequence\r\n",
        "    '''\r\n",
        "\r\n",
        "    batch_size_total = batch_size * seq_length\r\n",
        "    # total number of batches we can make\r\n",
        "    n_batches = len(arr) // batch_size_total\r\n",
        "\r\n",
        "    # Keep only enough characters to make full batches\r\n",
        "    arr = arr[:n_batches * batch_size_total]\r\n",
        "    # Reshape into batch_size rows\r\n",
        "    arr = arr.reshape((batch_size, -1))\r\n",
        "\r\n",
        "    # iterate through the array, one sequence at a time\r\n",
        "    for n in range(0, arr.shape[1], seq_length):\r\n",
        "        # The features\r\n",
        "        x = arr[:, n:n + seq_length]\r\n",
        "        # The targets, shifted by one\r\n",
        "        y = np.zeros_like(x)\r\n",
        "        try:\r\n",
        "            y[:, :-1], y[:, -1] = x[:, 1:], arr[:, n + seq_length]\r\n",
        "        except IndexError:\r\n",
        "            y[:, :-1], y[:, -1] = x[:, 1:], arr[:, 0]\r\n",
        "        yield x, y\r\n",
        "\r\n"
      ],
      "execution_count": 11,
      "outputs": []
    },
    {
      "cell_type": "code",
      "metadata": {
        "colab": {
          "base_uri": "https://localhost:8080/"
        },
        "id": "ndVW132YbsTC",
        "outputId": "b3330c87-6faf-46b6-c3bb-af902f95753d"
      },
      "source": [
        "import torch\r\n",
        "\r\n",
        "arr = convert.text_to_arr(text)\r\n",
        "arr = arr.reshape((num_seq, -1))\r\n",
        "arr = torch.from_numpy(arr)\r\n",
        "\r\n",
        "print(arr.shape)\r\n",
        "print(arr[0, :])"
      ],
      "execution_count": 12,
      "outputs": [
        {
          "output_type": "stream",
          "text": [
            "torch.Size([47134, 20])\n",
            "tensor([ 40, 166, 358, 933, 565,   0,  10, 367, 108,  63,  78,   0,   0, 150,\n",
            "          4, 441, 284, 182,   0, 131])\n"
          ],
          "name": "stdout"
        }
      ]
    },
    {
      "cell_type": "code",
      "metadata": {
        "id": "d09p_OHDbx1z"
      },
      "source": [
        "class TextDataset(object):\r\n",
        "    def __init__(self, arr):\r\n",
        "        self.arr = arr\r\n",
        "\r\n",
        "    def __getitem__(self, item):\r\n",
        "        x = self.arr[item, :]\r\n",
        "\r\n",
        "        # construct label\r\n",
        "        y = torch.zeros(x.shape)\r\n",
        "        \r\n",
        "        # Use the first character entered as the label for the last input\r\n",
        "        y[:-1], y[-1] = x[1:], x[0]\r\n",
        "        return x, y\r\n",
        "\r\n",
        "    def __len__(self):\r\n",
        "        return self.arr.shape[0]"
      ],
      "execution_count": 13,
      "outputs": []
    },
    {
      "cell_type": "code",
      "metadata": {
        "id": "xFDy83kcbz1y"
      },
      "source": [
        "train_set = TextDataset(arr)"
      ],
      "execution_count": 14,
      "outputs": []
    },
    {
      "cell_type": "code",
      "metadata": {
        "colab": {
          "base_uri": "https://localhost:8080/"
        },
        "id": "mb7WIimBb1mO",
        "outputId": "65930b49-8f24-4eed-9b41-507f0b882622"
      },
      "source": [
        "x, y = train_set[0]\r\n",
        "print(convert.arr_to_text(x.numpy()))\r\n",
        "print(convert.arr_to_text(y.numpy()))"
      ],
      "execution_count": 15,
      "outputs": [
        {
          "output_type": "stream",
          "text": [
            "寒随穷律变 春逐鸟声开  初风飘带柳 晚\n",
            "随穷律变 春逐鸟声开  初风飘带柳 晚寒\n"
          ],
          "name": "stdout"
        }
      ]
    },
    {
      "cell_type": "markdown",
      "metadata": {
        "id": "lFJINnkxjP1O"
      },
      "source": [
        "### 3 The Recurrent Neural Network (RNN) model"
      ]
    },
    {
      "cell_type": "markdown",
      "metadata": {
        "id": "0O6gaTzHjjnU"
      },
      "source": [
        "Declaring the model"
      ]
    },
    {
      "cell_type": "code",
      "metadata": {
        "id": "DHt03uM-b4GC"
      },
      "source": [
        "from torch import nn\r\n",
        "from torch.autograd import Variable\r\n",
        "\r\n",
        "use_gpu = True\r\n",
        "\r\n",
        "class VanillaCharRNN(nn.Module):\r\n",
        "    def __init__(self, num_classes, embed_dim, hidden_size, \r\n",
        "                 num_layers, dropout):\r\n",
        "        super().__init__()\r\n",
        "        self.num_layers = num_layers\r\n",
        "        self.hidden_size = hidden_size\r\n",
        "\r\n",
        "        self.word_to_vec = nn.Embedding(num_classes, embed_dim)\r\n",
        "        self.rnn = nn.GRU(embed_dim, hidden_size, num_layers)\r\n",
        "        self.project = nn.Linear(hidden_size, num_classes)\r\n",
        "\r\n",
        "    def forward(self, x, hs=None):\r\n",
        "        batch = x.shape[0]\r\n",
        "        if hs is None:\r\n",
        "            hs = Variable(\r\n",
        "                torch.zeros(self.num_layers, batch, self.hidden_size))\r\n",
        "            if use_gpu:\r\n",
        "                hs = hs.cuda()\r\n",
        "        word_embed = self.word_to_vec(x)  # (batch, len, embed)\r\n",
        "        word_embed = word_embed.permute(1, 0, 2)  # (len, batch, embed)\r\n",
        "        out, h0 = self.rnn(word_embed, hs)  # (len, batch, hidden)\r\n",
        "        le, mb, hd = out.shape\r\n",
        "        out = out.view(le * mb, hd)\r\n",
        "        out = self.project(out)\r\n",
        "        out = out.view(le, mb, -1)\r\n",
        "        out = out.permute(1, 0, 2).contiguous()  # (batch, len, hidden)\r\n",
        "        return out.view(-1, out.shape[2]), h0"
      ],
      "execution_count": 16,
      "outputs": []
    },
    {
      "cell_type": "markdown",
      "metadata": {
        "id": "yBG_gz1QhVXw"
      },
      "source": [
        "Declaring the hyperparameters"
      ]
    },
    {
      "cell_type": "code",
      "metadata": {
        "id": "y3XqQSjIb6EX"
      },
      "source": [
        "from torch.utils.data import DataLoader\r\n",
        "\r\n",
        "batch_size = 128\r\n",
        "train_data = DataLoader(train_set, batch_size, True, num_workers=4)\r\n",
        "epochs = 20"
      ],
      "execution_count": 17,
      "outputs": []
    },
    {
      "cell_type": "markdown",
      "metadata": {
        "id": "TuU5DikKhokT"
      },
      "source": [
        "Define and print the net"
      ]
    },
    {
      "cell_type": "markdown",
      "metadata": {
        "id": "E2p2imIQjfIU"
      },
      "source": [
        "\r\n",
        "###### Check if GPU is available"
      ]
    },
    {
      "cell_type": "code",
      "metadata": {
        "colab": {
          "base_uri": "https://localhost:8080/"
        },
        "id": "QmO-IKa5b8Dy",
        "outputId": "2e32a8a6-23fb-4b6c-c80f-fc22def5df7f"
      },
      "source": [
        "model = VanillaCharRNN(convert.vocab_size, 512, 512, 2, 0.5)\r\n",
        "if use_gpu:\r\n",
        "    model = model.cuda()\r\n",
        "criterion = nn.CrossEntropyLoss()\r\n",
        "\r\n",
        "basic_optimizer = torch.optim.Adam(model.parameters(), lr=1e-3)\r\n",
        "optimizer = basic_optimizer\r\n",
        "\r\n",
        "print(model)"
      ],
      "execution_count": 18,
      "outputs": [
        {
          "output_type": "stream",
          "text": [
            "VanillaCharRNN(\n",
            "  (word_to_vec): Embedding(5386, 512)\n",
            "  (rnn): GRU(512, 512, num_layers=2)\n",
            "  (project): Linear(in_features=512, out_features=5386, bias=True)\n",
            ")\n"
          ],
          "name": "stdout"
        }
      ]
    },
    {
      "cell_type": "markdown",
      "metadata": {
        "id": "RiPKZ_dIj4Sx"
      },
      "source": [
        "\r\n",
        "#### Declaring the train method"
      ]
    },
    {
      "cell_type": "code",
      "metadata": {
        "colab": {
          "base_uri": "https://localhost:8080/"
        },
        "id": "faAN1mfJcC-v",
        "outputId": "4e9612a2-b5cd-4ef0-b163-ef5d3f07271a"
      },
      "source": [
        "for e in range(epochs):\r\n",
        "    train_loss = 0\r\n",
        "    for data in train_data:\r\n",
        "        x, y = data\r\n",
        "        y = y.long()\r\n",
        "        if use_gpu:\r\n",
        "            x = x.cuda()\r\n",
        "            y = y.cuda()\r\n",
        "        x, y = Variable(x), Variable(y)\r\n",
        "\r\n",
        "        # Forward.\r\n",
        "        score, _ = model(x)\r\n",
        "        loss = criterion(score, y.view(-1))\r\n",
        "\r\n",
        "        # Backward.\r\n",
        "        optimizer.zero_grad()\r\n",
        "        loss.backward()\r\n",
        "        # Clip gradient.\r\n",
        "        nn.utils.clip_grad_norm(model.parameters(), 5)\r\n",
        "        optimizer.step()\r\n",
        "\r\n",
        "        train_loss += loss.item()\r\n",
        "    print('epoch: {}, perplexity is: {:.3f}'.format(e+1, np.exp(train_loss / len(train_data))))"
      ],
      "execution_count": 19,
      "outputs": [
        {
          "output_type": "stream",
          "text": [
            "/usr/local/lib/python3.6/dist-packages/ipykernel_launcher.py:19: UserWarning: torch.nn.utils.clip_grad_norm is now deprecated in favor of torch.nn.utils.clip_grad_norm_.\n"
          ],
          "name": "stderr"
        },
        {
          "output_type": "stream",
          "text": [
            "epoch: 1, perplexity is: 290.225\n",
            "epoch: 2, perplexity is: 203.827\n",
            "epoch: 3, perplexity is: 139.426\n",
            "epoch: 4, perplexity is: 97.714\n",
            "epoch: 5, perplexity is: 73.730\n",
            "epoch: 6, perplexity is: 58.069\n",
            "epoch: 7, perplexity is: 46.989\n",
            "epoch: 8, perplexity is: 38.830\n",
            "epoch: 9, perplexity is: 32.597\n",
            "epoch: 10, perplexity is: 27.671\n",
            "epoch: 11, perplexity is: 23.708\n",
            "epoch: 12, perplexity is: 20.534\n",
            "epoch: 13, perplexity is: 17.888\n",
            "epoch: 14, perplexity is: 15.732\n",
            "epoch: 15, perplexity is: 13.949\n",
            "epoch: 16, perplexity is: 12.470\n",
            "epoch: 17, perplexity is: 11.228\n",
            "epoch: 18, perplexity is: 10.186\n",
            "epoch: 19, perplexity is: 9.307\n",
            "epoch: 20, perplexity is: 8.549\n"
          ],
          "name": "stdout"
        }
      ]
    },
    {
      "cell_type": "markdown",
      "metadata": {
        "id": "5Zj_e4TXkCEj"
      },
      "source": [
        "\r\n",
        "##### Defining a method to generate the next character"
      ]
    },
    {
      "cell_type": "code",
      "metadata": {
        "id": "hsaBy-HCnF5V"
      },
      "source": [
        "def predict(model, char, h=None, top_k=None):\r\n",
        "    ''' Given a character, predict the next character.\r\n",
        "        Returns the predicted character and the hidden state.\r\n",
        "    '''\r\n",
        "\r\n",
        "    # tensor inputs\r\n",
        "    x = np.array([[char2idx[char]]])\r\n",
        "    x = one_hot_encode(x, len(model.vocab))\r\n",
        "    inputs = torch.from_numpy(x)\r\n",
        "\r\n",
        "    if (train_on_gpu):\r\n",
        "        inputs = inputs.cuda()\r\n",
        "\r\n",
        "    # detach hidden state from history\r\n",
        "    h = tuple([each.data for each in h])\r\n",
        "    '''TODO: feed the current input into the model and generate output'''\r\n",
        "    output, h = model('''TODO''') # TODO\r\n",
        "\r\n",
        "    # get the character probabilities\r\n",
        "    p = F.softmax(out, dim=1).data\r\n",
        "    if (train_on_gpu):\r\n",
        "        p = p.cpu()  # move to cpu\r\n",
        "\r\n",
        "    # get top characters\r\n",
        "    if top_k is None:\r\n",
        "        top_ch = np.arange(len(model.vocab))\r\n",
        "    else:\r\n",
        "        p, top_ch = p.topk(top_k)\r\n",
        "        top_ch = top_ch.numpy().squeeze()\r\n",
        "\r\n",
        "    # select the likely next character with some element of randomness\r\n",
        "    p = p.numpy().squeeze()\r\n",
        "    char = np.random.choice(top_ch, p=p / p.sum())\r\n",
        "\r\n",
        "    # return the encoded value of the predicted char and the hidden state\r\n",
        "    return idx2char[char], h\r\n"
      ],
      "execution_count": 20,
      "outputs": []
    },
    {
      "cell_type": "code",
      "metadata": {
        "id": "4AsXDwDrcE5T"
      },
      "source": [
        "def predict(preds, top_n=5):\r\n",
        "    top_pred_prob, top_pred_label = torch.topk(preds, top_n, 1)\r\n",
        "    top_pred_prob /= torch.sum(top_pred_prob)\r\n",
        "    top_pred_prob = top_pred_prob.squeeze(0).cpu().numpy()\r\n",
        "    top_pred_label = top_pred_label.squeeze(0).cpu().numpy()\r\n",
        "    c = np.random.choice(top_pred_label, size=1, p=top_pred_prob)\r\n",
        "    return c"
      ],
      "execution_count": 21,
      "outputs": []
    },
    {
      "cell_type": "markdown",
      "metadata": {
        "id": "bP24Rj9ah0aC"
      },
      "source": [
        "**Declaring to generate new text**"
      ]
    },
    {
      "cell_type": "code",
      "metadata": {
        "id": "pYxiTs7zcG9L"
      },
      "source": [
        "text_len = 30\r\n",
        "\r\n",
        "def generate(begin, model):\r\n",
        "  model = model.eval()\r\n",
        "  samples = [convert.word_to_int(c) for c in begin]\r\n",
        "  input_txt = torch.LongTensor(samples)[None]\r\n",
        "  if use_gpu:\r\n",
        "    input_txt = input_txt.cuda()\r\n",
        "  input_txt = Variable(input_txt)\r\n",
        "  _, init_state = model(input_txt)\r\n",
        "  result = samples\r\n",
        "  model_input = input_txt[:, -1][:, None]\r\n",
        "  for i in range(text_len):\r\n",
        "    # Get the predicted character and the hidden state. \r\n",
        "    out, init_state = model(model_input, init_state)\r\n",
        "    print(init_state)\r\n",
        "    pred = predict(out.data)\r\n",
        "    model_input = Variable(torch.LongTensor(pred))[None]\r\n",
        "    if use_gpu:\r\n",
        "        model_input = model_input.cuda()\r\n",
        "    result.append(pred[0])\r\n",
        "  text = convert.arr_to_text(result)\r\n",
        "  print('Generate text is: {}'.format(text))"
      ],
      "execution_count": 26,
      "outputs": []
    },
    {
      "cell_type": "code",
      "metadata": {
        "colab": {
          "base_uri": "https://localhost:8080/"
        },
        "id": "bCV3reVnfECf",
        "outputId": "26708262-03f6-47de-9d4d-ac2ff82bc992"
      },
      "source": [
        "generate('天青色等烟雨', model)"
      ],
      "execution_count": 23,
      "outputs": [
        {
          "output_type": "stream",
          "text": [
            "Generate text is: 天青色等烟雨稠  风生荷叶上雪霜 不觉白云生  不觉初终岳昼风殿 明天山\n"
          ],
          "name": "stdout"
        }
      ]
    },
    {
      "cell_type": "code",
      "metadata": {
        "colab": {
          "base_uri": "https://localhost:8080/"
        },
        "id": "o9Tp6_BIgTCc",
        "outputId": "b6d97c4b-6ee5-43ee-a67d-3a697bc94e6f"
      },
      "source": [
        "generate('诗人口耳间流浪', model)"
      ],
      "execution_count": 24,
      "outputs": [
        {
          "output_type": "stream",
          "text": [
            "Generate text is: 诗人口耳间流浪 择地各成名诗 本师终应巡诗劫 诗格人诗医诗诗酒论诗诗词诗名\n"
          ],
          "name": "stdout"
        }
      ]
    },
    {
      "cell_type": "code",
      "metadata": {
        "colab": {
          "base_uri": "https://localhost:8080/"
        },
        "id": "XifIC5Myhd6t",
        "outputId": "cffafb32-5b39-4f46-e1f8-874399ad5539"
      },
      "source": [
        "generate('恍然间已诀别', model)"
      ],
      "execution_count": 27,
      "outputs": [
        {
          "output_type": "stream",
          "text": [
            "tensor([[[ 0.9970, -1.0000, -0.9967,  ...,  0.3692, -0.9964,  0.4751]],\n",
            "\n",
            "        [[ 0.9348,  0.9606, -0.6135,  ..., -0.8207,  0.9997,  0.7706]]],\n",
            "       device='cuda:0', grad_fn=<CudnnRnnBackward>)\n",
            "tensor([[[ 0.9931, -1.0000, -0.6424,  ...,  0.3629, -0.9962,  0.4757]],\n",
            "\n",
            "        [[ 0.9348,  0.9995, -0.6179,  ..., -0.8207,  0.9804, -0.9990]]],\n",
            "       device='cuda:0', grad_fn=<CudnnRnnBackward>)\n",
            "tensor([[[ 0.9457, -1.0000, -0.5579,  ...,  0.9656,  0.9425, -0.8879]],\n",
            "\n",
            "        [[ 0.9348, -0.9001, -0.6179,  ..., -0.8207,  0.9988, -0.4127]]],\n",
            "       device='cuda:0', grad_fn=<CudnnRnnBackward>)\n",
            "tensor([[[ 0.9942,  0.9775, -0.5530,  ...,  0.9667,  0.9503, -0.9494]],\n",
            "\n",
            "        [[ 0.9348, -0.9912, -0.6179,  ..., -0.8207,  1.0000,  0.8930]]],\n",
            "       device='cuda:0', grad_fn=<CudnnRnnBackward>)\n",
            "tensor([[[ 0.8989,  1.0000, -0.5317,  ..., -0.9234,  0.2358, -0.9974]],\n",
            "\n",
            "        [[ 0.9348, -0.5223, -0.6179,  ..., -0.8207,  1.0000,  0.2975]]],\n",
            "       device='cuda:0', grad_fn=<CudnnRnnBackward>)\n",
            "tensor([[[-0.6308,  0.9403, -0.3776,  ...,  0.9636,  0.2376, -0.9944]],\n",
            "\n",
            "        [[ 0.9348, -0.9995, -0.6179,  ..., -0.8207,  0.9998,  0.7523]]],\n",
            "       device='cuda:0', grad_fn=<CudnnRnnBackward>)\n",
            "tensor([[[ 0.9993, -0.8675, -0.4159,  ..., -0.9956,  0.1203,  0.9928]],\n",
            "\n",
            "        [[ 0.9348, -1.0000,  0.2142,  ..., -0.8207,  0.9998,  0.9930]]],\n",
            "       device='cuda:0', grad_fn=<CudnnRnnBackward>)\n",
            "tensor([[[ 1.0000, -1.0000, -0.3956,  ..., -1.0000,  0.9692, -0.4119]],\n",
            "\n",
            "        [[ 0.9348, -0.9561,  0.9985,  ..., -0.8207,  0.9464, -0.4170]]],\n",
            "       device='cuda:0', grad_fn=<CudnnRnnBackward>)\n",
            "tensor([[[ 0.9552, -1.0000, -0.3935,  ..., -0.9922,  0.9100, -0.0686]],\n",
            "\n",
            "        [[ 0.9348,  0.9999,  0.9985,  ..., -0.8207,  0.9993, -1.0000]]],\n",
            "       device='cuda:0', grad_fn=<CudnnRnnBackward>)\n",
            "tensor([[[-0.9996, -1.0000,  0.1086,  ..., -0.9926,  0.9948,  0.1126]],\n",
            "\n",
            "        [[ 0.9346,  1.0000,  0.9985,  ..., -0.8207,  0.9987, -0.9994]]],\n",
            "       device='cuda:0', grad_fn=<CudnnRnnBackward>)\n",
            "tensor([[[ 1.0000, -1.0000,  0.6843,  ..., -0.6153,  0.7684,  0.6219]],\n",
            "\n",
            "        [[ 0.9346,  1.0000,  0.9985,  ..., -0.8207,  0.9136, -0.4620]]],\n",
            "       device='cuda:0', grad_fn=<CudnnRnnBackward>)\n",
            "tensor([[[ 0.9999, -1.0000,  0.6930,  ...,  0.9636,  0.9567, -0.3667]],\n",
            "\n",
            "        [[ 0.9346,  0.0749,  0.9985,  ..., -0.8207,  0.9823,  0.9953]]],\n",
            "       device='cuda:0', grad_fn=<CudnnRnnBackward>)\n",
            "tensor([[[ 0.9915,  1.0000,  0.6934,  ...,  0.9951,  0.7057,  0.2743]],\n",
            "\n",
            "        [[ 0.9346,  0.9972,  0.9985,  ..., -0.8207,  0.9824,  0.4747]]],\n",
            "       device='cuda:0', grad_fn=<CudnnRnnBackward>)\n",
            "tensor([[[ 0.9841,  0.9997,  0.6367,  ...,  0.9958, -0.9937,  0.2171]],\n",
            "\n",
            "        [[ 0.9346,  0.2450,  0.9986,  ..., -0.8207,  0.9857,  0.9631]]],\n",
            "       device='cuda:0', grad_fn=<CudnnRnnBackward>)\n",
            "tensor([[[ 1.0000,  0.9635,  0.6303,  ...,  0.9743, -0.9739,  0.4398]],\n",
            "\n",
            "        [[ 0.9345,  0.4512,  0.8002,  ..., -0.8207,  0.9867,  0.0936]]],\n",
            "       device='cuda:0', grad_fn=<CudnnRnnBackward>)\n",
            "tensor([[[ 1.0000, -0.9996,  0.5668,  ...,  0.9591, -0.0910, -0.9971]],\n",
            "\n",
            "        [[ 0.9345,  0.9979,  0.8126,  ..., -0.8207,  0.9877, -0.9999]]],\n",
            "       device='cuda:0', grad_fn=<CudnnRnnBackward>)\n",
            "tensor([[[-0.5543, -0.9999,  0.5645,  ..., -0.9897, -0.0756, -0.9999]],\n",
            "\n",
            "        [[ 0.9345,  0.9991,  0.8246,  ..., -0.8207,  0.9934, -0.9996]]],\n",
            "       device='cuda:0', grad_fn=<CudnnRnnBackward>)\n",
            "tensor([[[ 0.9680, -1.0000,  0.5647,  ..., -0.9944,  0.7232,  0.1272]],\n",
            "\n",
            "        [[ 0.9050,  0.7942,  0.8259,  ..., -0.8207,  1.0000, -0.9997]]],\n",
            "       device='cuda:0', grad_fn=<CudnnRnnBackward>)\n",
            "tensor([[[ 0.5591, -1.0000,  0.4712,  ...,  0.9706, -0.1535, -0.1038]],\n",
            "\n",
            "        [[ 0.8941,  1.0000,  0.8226,  ..., -0.8207,  0.9807, -0.9999]]],\n",
            "       device='cuda:0', grad_fn=<CudnnRnnBackward>)\n",
            "tensor([[[-0.9715, -0.9995, -0.9972,  ...,  0.2731, -0.1467, -0.0814]],\n",
            "\n",
            "        [[ 0.8941,  1.0000,  0.8227,  ..., -0.8207,  0.6135, -1.0000]]],\n",
            "       device='cuda:0', grad_fn=<CudnnRnnBackward>)\n",
            "tensor([[[ 0.5100, -0.9999, -0.9828,  ..., -0.4217,  0.7763,  0.9113]],\n",
            "\n",
            "        [[ 0.8941,  1.0000,  0.8227,  ..., -0.8184,  0.8256, -0.9999]]],\n",
            "       device='cuda:0', grad_fn=<CudnnRnnBackward>)\n",
            "tensor([[[-0.9913, -1.0000, -0.6500,  ..., -0.4270,  0.7886,  0.8386]],\n",
            "\n",
            "        [[ 0.8941, -0.5314,  0.8227,  ..., -0.8177,  0.9797, -1.0000]]],\n",
            "       device='cuda:0', grad_fn=<CudnnRnnBackward>)\n",
            "tensor([[[ 0.9993, -1.0000,  0.9948,  ...,  0.3887,  0.3072,  0.2225]],\n",
            "\n",
            "        [[ 0.8892,  0.9484,  0.8231,  ..., -0.8177,  0.9985, -0.9223]]],\n",
            "       device='cuda:0', grad_fn=<CudnnRnnBackward>)\n",
            "tensor([[[ 0.9999, -1.0000,  0.9984,  ...,  0.9666,  0.4056, -0.9478]],\n",
            "\n",
            "        [[ 0.8892, -0.9849,  0.8231,  ..., -0.8177,  0.9995,  0.5051]]],\n",
            "       device='cuda:0', grad_fn=<CudnnRnnBackward>)\n",
            "tensor([[[ 0.9359,  1.0000,  0.9992,  ..., -0.9184,  0.3988, -0.9849]],\n",
            "\n",
            "        [[ 0.8892,  0.9358,  0.8231,  ..., -0.8177,  0.9995, -0.1825]]],\n",
            "       device='cuda:0', grad_fn=<CudnnRnnBackward>)\n",
            "tensor([[[ 0.9652, -0.4476,  0.9855,  ...,  0.4358,  0.4031, -0.3304]],\n",
            "\n",
            "        [[ 0.8899, -0.9997,  0.8231,  ..., -0.8177,  0.9995,  0.9834]]],\n",
            "       device='cuda:0', grad_fn=<CudnnRnnBackward>)\n",
            "tensor([[[ 0.9999,  1.0000,  0.9853,  ..., -0.8544, -0.8386, -0.9634]],\n",
            "\n",
            "        [[ 0.8874, -1.0000,  0.8154,  ..., -0.8177,  0.9997, -0.9560]]],\n",
            "       device='cuda:0', grad_fn=<CudnnRnnBackward>)\n",
            "tensor([[[ 1.0000, -1.0000,  0.9560,  ..., -0.9636, -0.9964, -1.0000]],\n",
            "\n",
            "        [[ 0.8874, -0.9288,  0.4812,  ..., -0.8177,  1.0000,  0.5292]]],\n",
            "       device='cuda:0', grad_fn=<CudnnRnnBackward>)\n",
            "tensor([[[ 0.9997, -1.0000,  0.9560,  ..., -0.9985,  0.3510,  0.9462]],\n",
            "\n",
            "        [[ 0.8876,  1.0000,  0.4812,  ..., -0.8177,  0.9978, -0.9992]]],\n",
            "       device='cuda:0', grad_fn=<CudnnRnnBackward>)\n",
            "tensor([[[-0.8313, -1.0000,  0.9521,  ..., -0.9999,  0.8812,  0.3857]],\n",
            "\n",
            "        [[ 0.8876, -0.7135,  0.4812,  ..., -0.8177,  0.9659, -1.0000]]],\n",
            "       device='cuda:0', grad_fn=<CudnnRnnBackward>)\n",
            "Generate text is: 恍然间已诀别家  日寒犹是眼竹鬓 独卧病徐残岁月稀樵深辙 衡阳即四峰秋 \n"
          ],
          "name": "stdout"
        }
      ]
    }
  ]
}