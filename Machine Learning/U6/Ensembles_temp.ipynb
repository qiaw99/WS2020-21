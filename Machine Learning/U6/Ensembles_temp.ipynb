{
 "cells": [
  {
   "cell_type": "markdown",
   "metadata": {
    "id": "Zo9GWxKgTN1h"
   },
   "source": [
    "# Mustererkennung/Machine Learning - Assignment 6\n",
    "\n"
   ]
  },
  {
   "cell_type": "code",
   "execution_count": 3,
   "metadata": {
    "ExecuteTime": {
     "end_time": "2018-11-29T11:28:48.347720Z",
     "start_time": "2018-11-29T11:28:47.572823Z"
    },
    "id": "V7XaSv5wTN1i"
   },
   "outputs": [],
   "source": [
    "import numpy as np\n",
    "import pandas as pd\n",
    "from matplotlib import pyplot as plt\n",
    "from sklearn.model_selection import train_test_split"
   ]
  },
  {
   "cell_type": "markdown",
   "metadata": {
    "id": "Ax8ea49_bkdb"
   },
   "source": [
    "### Load the spam dataset:"
   ]
  },
  {
   "cell_type": "code",
   "execution_count": 4,
   "metadata": {
    "ExecuteTime": {
     "end_time": "2018-11-29T11:28:48.406520Z",
     "start_time": "2018-11-29T11:28:48.349530Z"
    },
    "id": "sT2Hk2k-TN1i"
   },
   "outputs": [],
   "source": [
    "data = np.array(pd.read_csv('./spambase/spambase.data', header=None))\n",
    "\n",
    "X = data[:,:-1] # features\n",
    "y = data[:,-1] # Last column is label\n",
    "\n",
    "X_train, X_test, y_train, y_test = train_test_split(X, y, random_state=0, shuffle=True, stratify=y)\n"
   ]
  },
  {
   "cell_type": "code",
   "execution_count": 22,
   "metadata": {},
   "outputs": [
    {
     "name": "stdout",
     "output_type": "stream",
     "text": [
      "(3450, 57)\n",
      "(1151, 57)\n",
      "(3450,)\n",
      "(1151,)\n",
      "[ 0.     0.     0.     0.     0.     0.     0.     0.     0.     0.\n",
      "  0.     1.14   0.     0.     0.     0.     0.     0.     2.29   0.\n",
      "  0.     0.     0.     0.     1.14   1.14   0.     0.     0.     0.\n",
      "  1.14   0.     0.     0.     0.     0.     0.     0.     0.     0.\n",
      "  0.     0.     0.     2.29   0.     0.     0.     0.     0.     0.\n",
      "  0.     0.596  0.     0.198  2.133 14.    64.   ]\n",
      "0.0\n"
     ]
    }
   ],
   "source": [
    "print(X_train.shape)\n",
    "print(X_test.shape)\n",
    "print(y_train.shape)\n",
    "print(y_test.shape)\n",
    "print(X_train[1])\n",
    "print(y_train[1])"
   ]
  },
  {
   "cell_type": "code",
   "execution_count": 10,
   "metadata": {},
   "outputs": [
    {
     "name": "stdout",
     "output_type": "stream",
     "text": [
      "3\n"
     ]
    }
   ],
   "source": [
    "class Node:\n",
    "    threshold = 0\n",
    "    x_data = None\n",
    "    y_data = None\n",
    "    \n",
    "    left_child = None\n",
    "    right_child = None\n",
    "\n",
    "    def __init__(self, threshold, x_data, y_data):\n",
    "        self.threshold = threshold\n",
    "        self.x_data = x_data\n",
    "        self.y_data = y_data\n",
    "        \n",
    "    def set_children(self, left_child, right_child):\n",
    "        self.left_child = left_child\n",
    "        self.right_child = right_child\n",
    "        \n",
    "node = Node(3, np.array([1]))\n",
    "print(node.threshold)"
   ]
  },
  {
   "cell_type": "code",
   "execution_count": 80,
   "metadata": {},
   "outputs": [
    {
     "name": "stdout",
     "output_type": "stream",
     "text": [
      "(array([[1, 1],\n",
      "       [2, 3],\n",
      "       [4, 5]]), array([[3, 7]]), array([3. , 5. , 2.5]), array([6.]))\n"
     ]
    }
   ],
   "source": [
    "def square(num):\n",
    "    return pow(num, 2)\n",
    "\n",
    "def cal_Q_tot(c1, c2, y_1, y_2):\n",
    "    res = 0\n",
    "    \n",
    "    for i in y_1:\n",
    "        res += square(i - c1)\n",
    "        \n",
    "    for i in y_2:\n",
    "        res += square(i - c2)\n",
    "        \n",
    "    return res\n",
    "\n",
    "class Decision_tree:\n",
    "    root = None\n",
    "    \n",
    "    def __init__(self, root):\n",
    "        self.root = root\n",
    "        \n",
    "    def inOrder(self, node):\n",
    "        if node == None:\n",
    "            return None\n",
    "        inOrder(node.leftChild)\n",
    "        print(node.threshold)\n",
    "        inOrder(node.rightChild)\n",
    "        \n",
    "    # calculate impurity at x to get j and z for splitting\n",
    "    def impurity(self, x_data, y_data):\n",
    "        # number and dimension of datas\n",
    "        # 2,4\n",
    "        length = x_data.shape[0]\n",
    "        dimension = x_data.shape[1]\n",
    "        \n",
    "        data_counter = 0\n",
    "        dim_counter = 1\n",
    "        cell_in_table = dimension * (length - 1)\n",
    "        res = np.zeros((cell_in_table, 5))\n",
    "        \n",
    "        for i in range(dimension):\n",
    "            for j in range(length - 1):\n",
    "                \n",
    "#                 print(\"data_counter: \" + str(data_counter))\n",
    "                res[data_counter][0] = i + 1\n",
    "#                 print(res[data_counter][0])\n",
    "                \n",
    "                if j + 1 <= length - 1:\n",
    "                    z = (x_data[j][i] + x_data[j + 1][i]) / 2.0\n",
    "#                     if(j == 1):\n",
    "#                         print(\"z: \" + str(z))\n",
    "#                         print(\"j: \" + str(j))\n",
    "#                         print(x_data[j][i])\n",
    "#                         print(x_data[j+1][i])\n",
    "                    res[data_counter][1] = z\n",
    "\n",
    "                    y_1 = y_data[:j + 1]\n",
    "                    y_2 = y_data[j + 1:]\n",
    "#                     print(\"y1 \", end='')\n",
    "#                     print(y_1)\n",
    "#                     print(y_2)\n",
    "                    c1 = np.average(y_1)\n",
    "                    c2 = np.average(y_2)\n",
    "\n",
    "                    res[data_counter][2] = c1\n",
    "                    res[data_counter][3] = c2\n",
    "\n",
    "                    Q_tot = cal_Q_tot(c1, c2, y_1, y_2)\n",
    "                    res[data_counter][4] = Q_tot\n",
    "                \n",
    "                data_counter += 1\n",
    "            dim_counter += 1\n",
    "        \n",
    "        #TODO\n",
    "        # get biggest index of smallest Q_tot\n",
    "        y = res[...,-1]\n",
    "        index = np.argmin(y) + length - 1\n",
    "        \n",
    "        # return j and z \n",
    "        return res[index][0], res[index][1]\n",
    "    \n",
    "    # split node x into 2 branches\n",
    "    def split_x(self, x_data, y_data, j, z):\n",
    "        j = int(j)\n",
    "        j_d_x_data = x_data[...,j - 1]\n",
    "        \n",
    "        # get all indices\n",
    "        indices_le_than_x = np.where(j_d_x_data <= z)\n",
    "        indices_gr_than_x = np.where(j_d_x_data > z)\n",
    "        \n",
    "        le_than_x = x_data[indices_le_than_x]\n",
    "        gr_than_x = x_data[indices_gr_than_x]\n",
    "        \n",
    "        y_1 = y_data[indices_le_than_x]\n",
    "        y_2 = y_data[indices_gr_than_x]\n",
    "        \n",
    "        return le_than_x, gr_than_x, y_1, y_2\n",
    "    \n",
    "    # check if leaves contain just one element\n",
    "    def check_child_data_size(self):\n",
    "        if(self.root.leftChild.shape[0] == 1 and self.root.rightChild.shape[0] == 1):\n",
    "            return True\n",
    "        return False\n",
    "    \n",
    "    def generate_decision_tree(self):\n",
    "        while(True):\n",
    "            pass\n",
    "    \n",
    "        \n",
    "tree = Decision_tree(node)\n",
    "j, z = tree.impurity(np.array([[1,1],[2,3],[3,7],[4,5]]), np.array([3,5,6,2.5]))\n",
    "#print(tree.impurity(np.array([[1,1],[2,3],[3,7],[4,5]]), np.array([3,5,6,2.5])))\n",
    "print(tree.split_x(np.array([[1,1],[2,3],[3,7],[4,5]]), np.array([3,5,6,2.5]), j, z))"
   ]
  },
  {
   "cell_type": "code",
   "execution_count": 79,
   "metadata": {},
   "outputs": [
    {
     "name": "stdout",
     "output_type": "stream",
     "text": [
      "[0 6 4 2]\n",
      "1\n",
      "1.6666666666666667\n",
      "[1 1 1 3 2 2 1]\n",
      "[2 3 1]\n"
     ]
    }
   ],
   "source": [
    "a = np.array([1,2,3,1,2,1,1,1,3,2,2,1])\n",
    "counts = np.bincount(a)\n",
    "print(counts)\n",
    "print(np.argmax(counts))\n",
    "print(np.average(a))\n",
    "print(a[5:])\n",
    "b = np.array([1,2,3])\n",
    "print(a[b])"
   ]
  },
  {
   "cell_type": "code",
   "execution_count": 76,
   "metadata": {},
   "outputs": [
    {
     "name": "stdout",
     "output_type": "stream",
     "text": [
      "[2 5]\n"
     ]
    }
   ],
   "source": [
    "temp = np.array([[1,2,3],[4,5,6]])\n",
    "i = 1\n",
    "#temp[i][1] = 2\n",
    "print(temp[...,i])"
   ]
  },
  {
   "cell_type": "code",
   "execution_count": null,
   "metadata": {},
   "outputs": [],
   "source": []
  }
 ],
 "metadata": {
  "colab": {
   "name": "Ensembles.ipynb",
   "provenance": [],
   "toc_visible": true
  },
  "kernelspec": {
   "display_name": "Python 3",
   "language": "python",
   "name": "python3"
  },
  "language_info": {
   "codemirror_mode": {
    "name": "ipython",
    "version": 3
   },
   "file_extension": ".py",
   "mimetype": "text/x-python",
   "name": "python",
   "nbconvert_exporter": "python",
   "pygments_lexer": "ipython3",
   "version": "3.8.0"
  },
  "toc": {
   "base_numbering": 1,
   "nav_menu": {},
   "number_sections": true,
   "sideBar": true,
   "skip_h1_title": false,
   "title_cell": "Table of Contents",
   "title_sidebar": "Contents",
   "toc_cell": false,
   "toc_position": {},
   "toc_section_display": true,
   "toc_window_display": false
  },
  "varInspector": {
   "cols": {
    "lenName": 16,
    "lenType": 16,
    "lenVar": 40
   },
   "kernels_config": {
    "python": {
     "delete_cmd_postfix": "",
     "delete_cmd_prefix": "del ",
     "library": "var_list.py",
     "varRefreshCmd": "print(var_dic_list())"
    },
    "r": {
     "delete_cmd_postfix": ") ",
     "delete_cmd_prefix": "rm(",
     "library": "var_list.r",
     "varRefreshCmd": "cat(var_dic_list()) "
    }
   },
   "types_to_exclude": [
    "module",
    "function",
    "builtin_function_or_method",
    "instance",
    "_Feature"
   ],
   "window_display": false
  }
 },
 "nbformat": 4,
 "nbformat_minor": 1
}
